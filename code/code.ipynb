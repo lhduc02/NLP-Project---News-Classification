{
 "cells": [
  {
   "cell_type": "code",
<<<<<<< HEAD
   "execution_count": 1,
=======
   "execution_count": 50,
>>>>>>> bd3f4a2ae46f6f7b854267b85baf9ff5292a74ac
   "id": "c805bb2a",
   "metadata": {},
   "outputs": [],
   "source": [
    "import pandas as pd\n",
    "from sklearn.preprocessing import LabelEncoder\n",
<<<<<<< HEAD
    "from sklearn.model_selection import train_test_split"
=======
    "from sklearn.model_selection import train_test_split\n",
    "\n",
    "from transformers import AutoTokenizer\n",
    "from transformers import AutoModelForSequenceClassification\n",
    "from transformers import Trainer, TrainingArguments\n",
    "import torch"
>>>>>>> bd3f4a2ae46f6f7b854267b85baf9ff5292a74ac
   ]
  },
  {
   "cell_type": "code",
<<<<<<< HEAD
   "execution_count": 2,
   "id": "36239424",
   "metadata": {},
   "outputs": [
    {
     "name": "stdout",
     "output_type": "stream",
     "text": [
      "../data/news_data.json\n",
      "                                                                                                  text  \\\n",
      "0  Thủ tướng: Khẩn trương trình Quốc hội các cơ chế đặc thù thống nhất cho tất cả các dự án đường s...   \n",
      "1  Chủ tịch Quốc hội Trần Thanh Mẫn: Đoàn kết, thống nhất để thành phố Cần Thơ sau sáp nhập phát tr...   \n",
      "\n",
      "    category  \n",
      "0  chinh-tri  \n",
      "1  chinh-tri  \n"
     ]
    }
   ],
=======
   "execution_count": 61,
   "id": "34fdd70d",
   "metadata": {},
   "outputs": [],
   "source": [
    "if torch.distributed.is_initialized():\n",
    "    torch.distributed.barrier()"
   ]
  },
  {
   "cell_type": "code",
   "execution_count": 51,
   "id": "36239424",
   "metadata": {},
   "outputs": [],
>>>>>>> bd3f4a2ae46f6f7b854267b85baf9ff5292a74ac
   "source": [
    "# Set up\n",
    "pd.set_option('display.max_colwidth', 100)\n",
    "\n",
    "# script_dir = os.path.dirname(os.path.abspath(__file__))\n",
    "# data_path = os.path.join(script_dir, \"..\", \"data\", \"news_data.json\")\n",
    "data_path = r\"../data/news_data.json\"\n",
<<<<<<< HEAD
    "print(data_path)\n",
=======
>>>>>>> bd3f4a2ae46f6f7b854267b85baf9ff5292a74ac
    "\n",
    "# Đọc và chuẩn hóa lại dữ liệu\n",
    "df = pd.read_json(data_path)\n",
    "\n",
    "df = df.drop_duplicates(subset=['title', 'short_description'])\n",
    "\n",
    "# Ghép các trường 'title', 'short_description' và 'content' thành một trường duy nhất 'text'\n",
    "df['text'] = df['title'] + \" \" + df['short_description'] + \" \" + df['content']\n",
    "\n",
    "# Kiểm tra dữ liệu sau khi ghép\n",
<<<<<<< HEAD
    "df_final = df[['text', 'category']]\n",
    "\n",
    "print(df_final.head(2))"
=======
    "df_final = df[['text', 'category']]"
>>>>>>> bd3f4a2ae46f6f7b854267b85baf9ff5292a74ac
   ]
  },
  {
   "cell_type": "code",
<<<<<<< HEAD
   "execution_count": 3,
   "id": "aedada16",
   "metadata": {},
   "outputs": [
    {
     "name": "stderr",
     "output_type": "stream",
     "text": [
      "C:\\Users\\duclh\\AppData\\Local\\Temp\\ipykernel_18108\\1557473341.py:2: SettingWithCopyWarning: \n",
      "A value is trying to be set on a copy of a slice from a DataFrame.\n",
      "Try using .loc[row_indexer,col_indexer] = value instead\n",
      "\n",
      "See the caveats in the documentation: https://pandas.pydata.org/pandas-docs/stable/user_guide/indexing.html#returning-a-view-versus-a-copy\n",
      "  df_final['label'] = label_encoder.fit_transform(df_final['category'])\n"
     ]
    }
   ],
   "source": [
    "label_encoder = LabelEncoder()\n",
    "df_final['label'] = label_encoder.fit_transform(df_final['category'])"
=======
   "execution_count": 52,
   "id": "20b7904b",
   "metadata": {},
   "outputs": [
    {
     "data": {
      "text/plain": [
       "973"
      ]
     },
     "execution_count": 52,
     "metadata": {},
     "output_type": "execute_result"
    }
   ],
   "source": [
    "len(df)"
>>>>>>> bd3f4a2ae46f6f7b854267b85baf9ff5292a74ac
   ]
  },
  {
   "cell_type": "code",
<<<<<<< HEAD
   "execution_count": 4,
   "id": "6aebf9dc",
=======
   "execution_count": 53,
   "id": "bd01b203",
>>>>>>> bd3f4a2ae46f6f7b854267b85baf9ff5292a74ac
   "metadata": {},
   "outputs": [
    {
     "data": {
      "application/vnd.microsoft.datawrangler.viewer.v0+json": {
       "columns": [
        {
         "name": "index",
         "rawType": "int64",
         "type": "integer"
        },
        {
         "name": "text",
         "rawType": "object",
         "type": "string"
        },
        {
         "name": "category",
         "rawType": "object",
         "type": "string"
<<<<<<< HEAD
        },
        {
         "name": "label",
         "rawType": "int64",
         "type": "integer"
        }
       ],
       "conversionMethod": "pd.DataFrame",
       "ref": "6be3b9d6-9d59-4490-ae73-2dbba18472fd",
=======
        }
       ],
       "conversionMethod": "pd.DataFrame",
       "ref": "52a0f137-a7f6-4cf2-9c1d-578a53279fef",
>>>>>>> bd3f4a2ae46f6f7b854267b85baf9ff5292a74ac
       "rows": [
        [
         "0",
         "Thủ tướng: Khẩn trương trình Quốc hội các cơ chế đặc thù thống nhất cho tất cả các dự án đường sắt Thủ tướng giao các cơ quan khẩn trương hoàn thiện nghị quyết thống nhất các cơ chế đặc thù cho tất cả dự án đường sắt, trình Chính phủ trong tháng 4 để trình Quốc hội trước 5/5. Sáng 26/4, Thủ tướng Phạm Minh Chính, Trưởng Ban Chỉ đạo các công trình trọng điểm, dự án quan trọng quốc gia lĩnh vực đường sắt, chủ trì phiên họp thứ hai của Ban Chỉ đạo. Hội nghị được tổ chức trực tiếp tại Trụ sở Chính phủ, trực tuyến với 9 tỉnh, thành phố có các dự án đường sắt trên địa bàn. Cùng dự hội nghị có các Ủy viên Trung ương Đảng: Phó Thủ tướng Chính phủ Trần Hồng Hà, Phó Trưởng Ban thường trực Ban Chỉ đạo, Bộ trưởng Bộ Xây dựng Trần Hồng Minh, Bộ trưởng Bộ Khoa học và Công nghệ Nguyễn Mạnh Hùng, Bộ trưởng Bộ Giáo dục và Đào tạo Nguyễn Kim Sơn, Bộ trưởng Bộ Tư pháp Nguyễn Hải Ninh; lãnh đạo các bộ, ngành Trung ương và lãnh đạo các địa phương; lãnh đạo các tập đoàn kinh tế lớn. Phát triển ngành công nghiệp đường sắt, tổ hợp công nghiệp đường sắt Vừa qua, Ban Chấp hành Trung ương, Bộ Chính trị đã rất tích cực xem xét các đề nghị của Chính phủ liên quan phát triển ngành đường sắt, bao gồm: Nâng cấp, các tuyến đường sắt đã có; nối lại các tuyến đường sắt đã có trước đây đang gián đoạn; triển khai các dự án đường sắt lớn, như đường sắt tốc độ cao Bắc - Nam, tuyến đường sắt kết nối với Trung Quốc và các tuyến đường sắt đô thị tại Hà Nội, TP Hồ Chí Minh. Quốc hội đã ban hành các Nghị quyết số 172, số 187 và số 188 liên quan phát triển đường sắt, gồm: Nghị quyết chủ trương đầu tư Dự án đường sắt tốc độ cao trên trục Bắc - Nam; Nghị quyết về chủ trương đầu tư Dự án tuyến đường sắt Lào Cai - Hà Nội - Hải Phòng; Nghị quyết thí điểm một số cơ chế, chính sách đặc thù, đặc biệt để phát triển hệ thống mạng lưới đường sắt đô thị tại thành phố Hà Nội, TP Hồ Chí Minh. Tại phiên họp lần thứ nhất ngày 29/3/2025, Thủ tướng Chính phủ đã giao 24 nhiệm vụ cho các bộ, ngành và địa phương tập trung vào tháo gỡ các khó khăn, vướng mắc, đẩy nhanh thủ tục chuẩn bị đầu tư các dự án. Theo các báo cáo, ý kiến tại phiên họp, trong 19 nhiệm vụ theo tiến độ, có 12 nhiệm vụ chưa đến hạn, đã hoàn thành 6 nhiệm vụ, còn 1 nhiệm vụ chậm; cùng với 5 nhiệm vụ thường xuyên. Bộ Xây dựng đã trình Chính phủ ban hành Nghị quyết triển khai Nghị quyết số 172 của Quốc hội và được Chính phủ thông qua tại Nghị quyết số 106 ngày 23/4/2025; đã trình Chính phủ dự thảo Nghị quyết triển khai Nghị quyết số 187 của Quốc hội, Văn phòng Chính phủ đang lấy ý kiến của các thành viên Chính phủ. Bộ Nông nghiệp và Môi trường đang xây dựng dự thảo Nghị định sửa đổi, bổ sung một số điều của Nghị định số 156/2018/NĐ-CP trong đó bổ sung quy định việc tạm sử dụng rừng và hoàn trả rừng để thực hiện thi công công trình tạm phục vụ dự án. Bộ Khoa học và Công nghệ đang xây dựng Nghị định quy định phát triển khoa học, công nghệ đường sắt và quy định chi tiết về việc nghiên cứu, ứng dụng, nhận chuyển giao công nghệ. Bộ Tài chính đã hoàn thiện thủ tục, báo cáo Thủ tướng Chính phủ xem xét, phê duyệt đề xuất dự án Tuyến số 3, đoạn ga Hà Nội - Yên Sở (Hoàng Mai) theo đề nghị của UBND TP. Hà Nội; đã có ý kiến về việc dừng sử dụng vốn ODA, vốn vay ưu đãi nước ngoài đối với dự án đường sắt đô thị TP Hồ Chí Minh, Tuyến số 2 đoạn Bến Thành - Tham Lương và điều chỉnh nguồn vốn cho dự án. Bộ Tài chính đang chỉ đạo, tổ chức lập, hoàn thiện Đề án tái cơ cấu Tổng công ty Đường sắt. Bộ cũng đang thực hiện nhiệm vụ trình Thủ tướng thành lập Hội đồng thẩm định Nhà nước trong tháng 4/2025 để tiến hành thẩm định cùng với quá trình lập Báo cáo nghiên cứu khả thi Dự án Lào Cai - Hà Nội - Hải Phòng. Bộ Giáo dục và Đào tạo đang rà soát quy hoạch các đại học, cao đẳng bảo đảm đáp ứng đủ nhu cầu đào tạo trong nước phục vụ đầu tư, quản lý, khai thác, vận hành và phát triển công nghiệp đường sắt. Tổng công ty Đường sắt đang lập hồ sơ dự án Tổ hợp công nghiệp đường sắt; có văn bản gửi Bộ Xây dựng đề xuất cơ chế đặc thù, đặc biệt đẩy nhanh tiến độ dự án; UBND TP. Hà Nội nghiên cứu xem xét quyết định theo thẩm quyền hướng dẫn, hoàn thiện các thủ tục giao đất cho Tổng công ty để xây dựng tổ hợp này. Cũng tại cuộc họp, các đại biểu đã báo cáo về tình hình thực hiện các dự án: 3 tuyến đường sắt Lào Cai - Hà Nội - Hải Phòng, Hà Nội - Lạng Sơn và Hải Phòng - Móng Cái; tuyến đường sắt tốc độ cao trên trục Bắc – Nam; các dự án đường sắt đô thị Hà Nội và TP Hồ Chí Minh. Thủ tướng giao các cơ quan khẩn trương hoàn thiện Nghị quyết thống nhất các cơ chế đặc thù cho tất cả dự án đường sắt, trình Chính phủ trong tháng 4 để trình Quốc hội trước ngày 5/5 - Ảnh: VGP/Nhật Bắc Không thay đổi thời hạn khởi công 2 dự án đường sắt lớn Phát biểu kết luận, Thủ tướng Phạm Minh Chính ghi nhận kết quả đạt được của các bộ, ngành, địa phương trong việc tổ chức triển khai các nhiệm vụ được giao; biểu dương các cơ quan, địa phương, trong đó có Bộ Xây dựng, Hải Phòng, Hà Nội, TP Hồ Chí Minh chủ động, tích cực triển khai công việc. Đánh giá cao các ý kiến, Thủ tướng giao Văn phòng Chính phủ, Bộ Xây dựng và các cơ quan tiếp thu các ý kiến để khẩn trương trình ban hành thông báo kết luận của phiên họp. Với khí thế của những ngày tháng 4 lịch sử cách đây 50 năm, giải phóng miền Nam, thống nhất đất nước, Thủ tướng Chính phủ yêu cầu các thành viên Ban Chỉ đạo, các bộ, ngành, địa phương, đơn vị cần \"thần tốc, thần tốc hơn nữa; tạo bạo, táo bạo hơn nữa\", phát huy tinh thần trách nhiệm, phân công \"rõ người, rõ việc, rõ thời gian, rõ kết quả, rõ trách nhiệm, rõ thẩm quyền\", \"nhìn xa, trông rộng, nghĩ sâu, làm lớn\", triển khai công việc nhanh, quyết liệt, quyết đoán, tạo động lực, truyền cảm hứng làm việc. Thủ tướng yêu cầu các bộ, ngành, cơ quan theo chức năng, nhiệm vụ, quyền hạn chủ động, tích cực, bám sát chủ trương, đường lối của Đảng, chính sách, pháp luật của Nhà nước, các nghị quyết, kết luận, chỉ đạo của Trung ương, Bộ Chính trị, Quốc hội, Chính phủ, Thủ tướng Chính phủ để tổ chức thực hiện. Về nhiệm vụ tổng thể, Thủ tướng yêu cầu, tiếp tục tập trung triển khai đồng bộ các dự án đường sắt tốc độ cao Bắc - Nam, tuyến đường sắt Lào Cai – Hà Nội – Hải Phòng, các tuyến đường sắt tại Hà Nội và TP Hồ Chí Minh. Tinh thần là vừa phải triển khai công việc trước mắt, vừa phải triển khai các công việc lâu dài, xây dựng, hoàn thiện thể chế, cơ chế, chính sách, đào tạo nhân lực… Thủ tướng nêu rõ mục tiêu không thay đổi là phải khởi công dự án Lào Cai - Hà Nội - Hải Phòng trong năm 2025 và khởi công tuyến đường sắt tốc độ cao Bắc - Nam trong năm 2026. Về vốn, Thủ tướng chỉ đạo huy động đa dạng các nguồn vốn, gồm vốn tự có của Trung ương, địa phương, vốn vay, phát hành trái phiếu của Chính phủ và doanh nghiệp, hợp tác công tư… Về pháp lý, Thủ tướng giao Bộ Xây dựng, Bộ Tư pháp khẩn trương hoàn thiện Nghị quyết thống nhất các cơ chế đặc thù cho tất cả dự án đường sắt, trình Chính phủ trong tháng 4 và trình Quốc hội trước ngày 5/5. Với 4 nghị định của Chính phủ, Bộ Xây dựng chủ trì xây dựng Nghị định về thiết kế tổng thể kỹ thuật và các cơ chế đặc thù, đặc biệt; Bộ Xây dựng chủ trì xây dựng Nghị định về tiêu chí lựa chọn doanh nghiệp đặt hàng cung cấp dịch vụ, hàng hóa; Bộ Khoa học và Công nghệ chủ trì xây dựng Nghị định về phát triển khoa học công nghệ đường sắt; Bộ Nông nghiệp và Môi trường chủ trì xây dựng Nghị định về tạm sử dụng, hoàn trả rừng. Các nghị định hoàn thành trong tháng 5/2025. Về phát triển công nghiệp đường sắt, phục vụ phát triển công nghiệp hóa, hiện đại hóa đất nước, Thủ tướng nêu rõ, phải chuyển giao và làm chủ công nghệ hiện đại; quản trị khoa học, thông minh; đào tạo nhân lực chất lượng cao. Bộ Xây dựng và Bộ Giáo dục và Đào tạo có đề án, kế hoạch đào tạo ngắn hạn, trung hạn, dài hạn ở các trình độ công nhân kỹ thuật, kỹ sư, tiến sĩ. Thủ tướng yêu cầu phải huy động các tập đoàn, doanh nghiệp Nhà nước và tư nhân có năng lực công nghệ và sản xuất tham gia các dự án và phát triển công nghiệp đường sắt - Ảnh: VGP/Nhật Bắc Bộ Xây dựng chủ trì xây dựng Quyết định của Thủ tướng Chính phủ về danh mục dịch vụ hàng hóa công nghiệp đường sắt, hoàn thành chậm nhất trong nửa đầu tháng 6/2025. Bộ Công Thương chủ trì xây dựng Đề án về phát triển công nghiệp đường sắt; Bộ Giáo dục và Đào tạo chủ trì xây dựng Đề án về phát triển nguồn nhân lực. Thời gian hoàn thành của 2 đề án trong quý 2 năm 2025. Cùng với đó, phải huy động các tập đoàn, doanh nghiệp Nhà nước và tư nhân có năng lực công nghệ và sản xuất tham gia các dự án và phát triển công nghiệp đường sắt. Trong đó, Bộ Xây dựng giao các tập đoàn như VNPT, Viettel nghiên cứu tiếp nhận, phát triển, làm chủ công nghệ hệ thống thông tin, tín hiệu và hệ thống điều khiển của các dự án đường sắt. Với dự án đường sắt tốc độ cao trên trục Bắc - Nam, tại Nghị quyết số 106/NQ-CP, Chính phủ đã chấp thuận kế hoạch tổng thể triển khai, bảo đảm khởi công chậm nhất trong tháng 12 năm 2026, Thủ tướng đề nghị các bộ ngành, địa phương căn cứ các mốc tiến độ tổng thể và nhiệm vụ được giao, xây dựng kế hoạch của ngành, lĩnh vực, địa phương. Với dự án đường sắt Lào Cai - Hà Nội - Hải Phòng, các cơ quan tiếp tục trao đổi, làm việc, thúc đẩy phía Trung Quốc để sớm hoàn thành công tác đàm phán hiệp định vay, đáp ứng tiến độ triển khai Dự án. Về giải phóng mặt bằng cho các dự án, Thủ tướng nêu rõ, luật, cơ chế, chính sách đã có, các địa phương phải chủ động giải phóng mặt bằng, huy động cả hệ thống chính trị và các lực lượng vào cuộc; đặc biệt cần hoàn thành giải phóng mặt bằng cho dự án Lào Cai - Hà Nội - Hải Phòng trong tháng 9 năm nay. Với các dự án đường sắt đô thị tại Hà Nội, TP Hồ Chí Minh, Thủ tướng nhấn mạnh tinh thần phân cấp, yêu cầu các địa phương vận dụng các cơ chế, chính sách đặc thù đã có trong tổ chức thực hiện, Bộ Xây dựng, Bộ Nông nghiệp và Môi trường hướng dẫn thêm nếu có vướng mắc. Thủ tướng chỉ đạo UBND TP Hà Nội và TP Hồ Chí Minh khẩn trương xây dựng kế hoạch chi tiết, tiến độ công việc triển khai các cơ chế chính sách của Nghị quyết số 188/2025/QH15 áp dụng cho hai Thành phố và ban hành kế hoạch riêng của mỗi thành phố thuộc thẩm quyền của địa phương.",
<<<<<<< HEAD
         "chinh-tri",
         "0"
=======
         "chinh-tri"
>>>>>>> bd3f4a2ae46f6f7b854267b85baf9ff5292a74ac
        ],
        [
         "1",
         "Chủ tịch Quốc hội Trần Thanh Mẫn: Đoàn kết, thống nhất để thành phố Cần Thơ sau sáp nhập phát triển mạnh mẽ Chủ tịch Quốc hội Trần Thanh Mẫn chủ trì cuộc gặp mặt các Mẹ Việt Nam Anh hùng, các đồng chí nguyên lãnh đạo Trung ương, Quân khu 9 và lãnh đạo thành phố Cần Thơ, tỉnh Hậu Giang. Nhân kỷ niệm 50 năm Ngày Giải phóng miền Nam, thống nhất đất nước (30/4/1975 - 30/4/2025), sáng 26/4, tại thành phố Cần Thơ, Chủ tịch Quốc hội Trần Thanh Mẫn chủ trì cuộc gặp mặt các Mẹ Việt Nam Anh hùng, các đồng chí nguyên lãnh đạo Trung ương, Quân khu 9 và lãnh đạo thành phố Cần Thơ, tỉnh Hậu Giang qua các thời kỳ. Chủ tịch Quốc hội Trần Thanh Mẫn gửi lời chúc sức khỏe, lời chúc mừng nồng nhiệt nhất tới các Mẹ Việt Nam Anh hùng, các đồng chí nguyên lãnh đạo Trung ương, Quân khu 9 và lãnh đạo thành phố Cần Thơ, tỉnh Hậu Giang qua các thời kỳ; đồng thời chuyển lời thăm hỏi thân thiết, lời chúc sức khỏe của Tổng Bí thư Tô Lâm, Chủ tịch nước Lương Cường, Thủ tướng Chính phủ Phạm Minh Chính tới các đại biểu. Thông tin về những thành tựu quan trọng của đất nước sau gần 40 năm đổi mới, Chủ tịch Quốc hội nêu rõ, quy mô nền kinh tế đạt khoảng 476 tỷ USD, thu nhập bình quân đầu người đạt gần 4.700 USD. Thu ngân sách đạt khoảng 2 triệu tỷ đồng. Hiện nay, Việt Nam có quan hệ ngoại giao với gần 200 quốc gia; trở thành một trong 40 nền kinh tế lớn nhất thế giới, xếp thứ 32 trong top 100 giá trị thương hiệu quốc gia mạnh trên thế giới. Phấn đấu đến năm 2030, kỷ niệm 100 năm thành lập Đảng, Việt Nam là nước đang phát triển, thu nhập trung bình cao; đến năm 2045, kỷ niệm 100 năm thành lập nước, Việt Nam trở thành nước phát triển, thu nhập cao. Năm 2025, phấn đấu đạt mục tiêu tăng trưởng kinh tế 8% trở lên, tạo đà cho giai đoạn 2026 - 2030 tăng trưởng ở mức 2 con số. Chủ tịch Quốc hội Trần Thanh Mẫn với đại biểu. Ảnh: Doãn Tấn - TTXVN Về cuộc cách mạng tinh gọn tổ chức bộ máy, Chủ tịch Quốc hội cho biết, số lượng đơn vị hành chính cấp tỉnh sau sáp nhập là 34 tỉnh, thành phố (28 tỉnh và 6 thành phố trực thuộc Trung ương). Theo Nghị quyết của Trung ương, thành phố Cần Thơ sáp nhập với tỉnh Hậu Giang và tỉnh Sóc Trăng, với diện tích khoảng 6.400 km2, dân số hơn 4 triệu người, mở rộng không gian phát triển trong thời gian tới. Tại Kỳ họp thứ 9 sắp tới, nếu Nghị quyết của Quốc hội sửa đổi, bổ sung một số điều của Hiến pháp được thông qua, sau ngày 30/6/2025 sẽ kết thúc hoạt động của đơn vị hành chính cấp huyện. Từ nay đến hết tháng 5/2025, Ủy ban Thường vụ Quốc hội sẽ họp liên tục để xem xét việc sáp nhập đơn vị hành chính cấp xã, giảm 60 - 70% đơn vị hành chính cấp xã (trên tổng số 10.035 xã hiện nay). Nhấn mạnh đây là cuộc cách mạng lớn chưa từng có để tinh gọn tổ chức bộ máy, bảo đảm hoạt động hiệu năng, hiệu lực, hiệu quả, Chủ tịch Quốc hội mong muốn các Mẹ Việt Nam Anh hùng, các đồng chí nguyên lãnh đạo Trung ương, Quân khu 9 và lãnh đạo thành phố Cần Thơ, tỉnh Hậu Giang qua các thời kỳ tiếp tục ủng hộ chủ trương này để thực hiện các mục tiêu phát triển đất nước. Theo Chủ tịch Quốc hội, trong năm 2025, cả nước chuẩn bị Đại hội đảng bộ các cấp, tiến tới Đại hội đại biểu toàn quốc lần thứ XIV của Đảng, dự kiến diễn ra vào tháng 1/2026. Đồng thời chuẩn bị bầu cử đại biểu Quốc hội khóa XVI, bầu cử đại biểu Hội đồng nhân dân các cấp nhiệm kỳ 2026 - 2031, dự kiến diễn ra vào ngày 15/3/2026. Vừa qua, Thủ tướng Chính phủ Phạm Minh Chính đã làm việc với thành phố Cần Thơ, bàn các nhiệm vụ, giải pháp phát triển thành phố, trong đó đặc biệt nhấn mạnh tinh thần đoàn kết, thống nhất, chung sức chung lòng để Cần Thơ sau sáp nhập phát triển mạnh mẽ. Chủ tịch Quốc hội Trần Thanh Mẫn với đại biểu. Ảnh: Doãn Tấn - TTXVN Nhắc lại tinh thần trên, Chủ tịch Quốc hội khẳng định, Trung ương luôn dành sự quan tâm, tạo điều kiện thuận lợi để Đồng bằng sông Cửu Long nói chung và thành phố Cần Thơ nói riêng ngày càng phát triển; tin tưởng, Cần Thơ sẽ thực hiện thắng lợi nhiệm vụ năm 2025 và các nhiệm vụ trong thời gian tới. Tiếp thu ý kiến chỉ đạo của Chủ tịch Quốc hội Trần Thanh Mẫn, Bí thư Thành ủy Cần Thơ Đỗ Thanh Bình khẳng định, Đảng bộ, chính quyền và nhân dân thành phố Cần Thơ sẽ tiếp tục phát huy truyền thống cách mạng của quê hương, đoàn kết, thống nhất, đổi mới, quyết tâm, quyết liệt để hoàn thành các nhiệm vụ chính trị; khẩn trương triển khai hiệu quả việc sắp xếp tổ chức bộ máy, đơn vị hành chính theo chủ trương của Trung ương; tập trung chuẩn bị đại hội Đảng bộ các cấp, tiến tới Đại hội đại biểu toàn quốc lần thứ XIV của Đảng, quyết tâm xây dựng và phát triển thành phố Cần Thơ trở thành trung tâm của vùng. Trước đó, sáng 26/4, Chủ tịch Quốc hội Trần Thanh Mẫn đã thăm, tặng quà Anh hùng Lực lượng vũ trang nhân dân, cựu chiến binh biệt động thành phố Cần Thơ Nguyễn Thị Vân ở phường An Bình, quận Ninh Kiều và nguyên Phó Tham mưu trưởng Quân khu 9, cựu chiến binh biệt động thành phố Cần Thơ Ung Thị Bé ở phường Tân An, quận Ninh Kiều.",
<<<<<<< HEAD
         "chinh-tri",
         "0"
        ]
       ],
       "shape": {
        "columns": 3,
        "rows": 2
=======
         "chinh-tri"
        ],
        [
         "2",
         "Chuyến thăm của Chủ tịch nước truyền thông điệp về giá trị trường tồn của quan hệ Việt Nam – Lào Phó Thủ tướng, Bộ trưởng Ngoại giao Bùi Thanh Sơn đã có cuộc trả lời phỏng vấn báo chí tháp tùng Đoàn về ý nghĩa, mục đích và kết quả chuyến công du của Chủ tịch nước Lương Cường. Tối 25/4, Chủ tịch nước Lương Cường và Đoàn đại biểu cấp cao Việt Nam đã về tới sân bay quốc tế Nội Bài, thủ đô Hà Nội, kết thúc tốt đẹp chuyến thăm cấp Nhà nước tới CHDCND Lào theo lời mời của Tổng Bí thư Ban Chấp hành Trung ương Đảng Nhân dân Cách mạng Lào, Chủ tịch nước Cộng hòa Dân chủ Nhân dân Lào Thongloun Sisoulith. Nhân dịp này, Phó Thủ tướng, Bộ trưởng Ngoại giao Bùi Thanh Sơn đã có cuộc trả lời phỏng vấn báo chí tháp tùng Đoàn về ý nghĩa, mục đích và kết quả chuyến công du. Phóng viên: Xin Phó Thủ tướng, Bộ trưởng cho biết ý nghĩa của chuyến thăm cấp Nhà nước của Chủ tịch nước Lương Cường tới Lào? Phó Thủ tướng, Bộ trưởng Ngoại giao Bùi Thanh Sơn: Chuyến thăm cấp Nhà nước của Chủ tịch nước Lương Cường tới Lào mang ý nghĩa rất quan trọng đối với quan hệ đặc biệt Việt Nam – Lào. Đây là chuyến thăm cấp Nhà nước tới Lào lần đầu tiên của Chủ tịch nước Lương Cường và diễn ra vào thời điểm đặc biệt. Các bạn Lào vừa đón Tết Bunpimay 2025 (13-16/4) với nhiều mong ước và khát vọng mới. Chủ tịch nước Lương Cường và Đoàn đại biểu cấp cao của Đảng và Nhà nước ta mang đến những tình cảm ấm áp, chân tình, gắn bó keo sơn của những người đồng chí, đồng đội, anh em thân thiết; cùng với đó đất nước ta cũng đang tưng bừng chuẩn bị cho Lễ kỷ niệm 50 năm Giải phóng miền Nam, thống nhất đất nước và chính Đại thắng mùa Xuân năm 1975 của ta cũng đã tạo tiền đề thuận lợi cho quân và dân Lào tiến lên giành toàn thắng năm 1975. Chuyến thăm là dịp để lãnh đạo và nhân dân hai nước ôn lại lịch sử liên minh chiến đấu, đoàn kết đặc biệt Việt Nam - Lào do Chủ tịch Hồ Chí Minh, Chủ tịch Kaysone Phomvihane và Chủ tịch Suphanouvong đặt nền móng và được các thế hệ lãnh đạo hai Đảng, hai Nhà nước và Nhân dân hai nước dày công vun đắp. Cùng trân trọng giá trị lịch sử của quan hệ hai nước, càng thêm tự hào về những thành tựu hai nước đã đạt được trong công cuộc xây dựng và phát triển đất nước. Một hành trình hai bên luôn kề vai sát cánh, sẵn sàng hy sinh cho nhau, thấm nhuần trong suy nghĩ và hành động rằng trong hành trình của Lào luôn có bóng hình Việt Nam và trong hành trình của Việt Nam luôn hiện hữu bóng hình Lào. Những giá trị vô giá của tình đoàn kết, gắn bó, thủy chung, trong sáng, chí nghĩa chí tình đó đã được truyền cho thế hệ trẻ, những người mang trong mình sứ mệnh tiếp nối truyền thống tốt đẹp cha ông đã dày công vun đắp, để trở thành người kế thừa xứng đáng cho tình đoàn kết vĩ đại Việt Nam – Lào, như lời Chủ tịch Kaysone Phomvihane đã nói \"Núi có thể mòn, sông có thể cạn, song tình nghĩa Lào – Việt Nam mãi mãi vững bền hơn núi, hơn sông\" và Bác Hồ kính yêu của chúng ta đã đúc kết \"Việt Lào hai nước chúng ta, tình sâu hơn nước Hồng Hà Cửu Long\". Phóng viên: Xin Phó Thủ tướng, Bộ trưởng cho biết những kết quả nổi bật và biện pháp nhằm triển khai kết quả đạt được của chuyến thăm? Phó Thủ tướng, Bộ trưởng Ngoại giao Bùi Thanh Sơn: Chuyến thăm diễn ra trong hai ngày 24-25/4 với 15 hoạt động và mang lại nhiều kết quả nổi bật. Một là, hai bên nhất trí tiếp tục đưa quan hệ chính trị đi vào chiều sâu, hợp tác chặt chẽ trong lĩnh vực an ninh, quốc phòng và các vấn đề liên quan đến phát triển của mỗi nước, đồng thời triển khai tích cực các cam kết, thỏa thuận của lãnh đạo cấp cao hai nước với tinh thần mới: đã cam kết là triển khai hiệu quả. Hai là, nâng tầm hợp tác kinh tế tương xứng với tầm vóc của mối quan hệ đặc biệt; giải quyết triệt để những khó khăn, vướng mắc trong hợp tác kinh tế; hoàn thiện hành lang pháp lý, thiết lập cơ chế hợp tác đồng bộ. Đặc biệt, việc hai bên nỗ lực hoàn tất dự án Cảng Vũng Áng, góp phần hiện thực hóa chiến lược đưa Lào ra biển, kết nối Lào với khu vực và thế giới, không gian phát triển của Lào cũng như của hai nước sẽ được mở rộng và đa dạng hóa. Ba là, đẩy mạnh hợp tác giáo dục - đào tạo, phát triển nguồn nhân lực, tập trung vào chất lượng, hiệu quả để đáp ứng các nhu cầu phát triển của mỗi nước. Nhân dịp này, Chủ tịch nước Lương Cường đã công bố quà tặng của Đảng, Nhà nước và Nhân dân Việt Nam gửi tới Đảng, Nhà nước và Nhân dân Lào 3 triệu USD để xây dựng bệnh viện tuyến huyện tại tỉnh Viêng Chăn với mong muốn góp phần phát triển an sinh xã hội cho người dân Lào anh em. Bốn là, hai bên cam kết tiếp tục phối hợp chặt chẽ tại các diễn đàn khu vực và quốc tế, đặc biệt trong khuôn khổ Hiệp hội các quốc gia Đông Nam Á (ASEAN), Liên hợp quốc, hợp tác Mekong; quyết liệt triển khai kết quả Cuộc gặp giữa 3 đồng chí đứng đầu ba Đảng Việt Nam - Lào - Campuchia và thúc đẩy kết nối giữa ba nền kinh tế. Năm là, Chủ tịch nước gặp gỡ cộng đồng và doanh nghiệp Việt Nam tại Lào, đánh giá cao hoạt động của các hội đoàn trong việc phát huy vai trò đại diện cộng đồng người Việt tại Lào; vui mừng khi chứng kiến cộng đồng và doanh nghiệp Việt Nam tại Lào ngày một lớn mạnh, luôn giữ gìn, phát huy truyền thống đoàn kết, gắn bó, đùm bọc lẫn nhau và đóng góp tích cực vào đời sống kinh tế xã hội Lào cũng như phát triển mối quan hệ hữu nghị Việt Nam - Lào. Cộng đồng cùng chung khí thế chào mừng Đại thắng mùa Xuân 1975 với lòng tự hào về đất nước, cộng đồng cam kết quyết tâm trong từng hành động, nỗ lực từ trái tim của mỗi người dân vì quan hệ vĩ đại Việt Nam – Lào. Tóm lại, với những kết quả nổi bật nêu trên, chuyến thăm cấp Nhà nước của Chủ tịch nước Lương Cường tới Lào đã thành công tốt đẹp, truyền đi thông điệp mạnh mẽ về giá trị trường tồn của quan hệ đặc biệt Việt Nam – Lào, cũng như nỗ lực lớn, quyết tâm cao đưa quan hệ hai nước sang giai đoạn phát triển mới, ngày càng gắn bó, đi vào chiều sâu, thực chất, hiệu quả hơn, qua đó góp phần tích cực xây dựng Cộng đồng ASEAN đoàn kết, tự cường, vì hòa bình, ổn định và hợp tác, phát triển ở khu vực và trên thế giới.",
         "chinh-tri"
        ],
        [
         "3",
         "Đề xuất bổ sung miễn học phí cho trẻ dưới 5 tuổi, hỗ trợ học phí trường dân lập Nghị quyết sẽ bổ sung các đối tượng được miễn tại các cơ sở giáo dục công lập, hỗ trợ đóng học phí và hỗ trợ học phí tại cơ sở giáo dục dân lập, tư thục. Miễn học phí đối với tất cả học sinh tại các cơ sở giáo dục công lập Chiều 25/4, Ủy ban Thường vụ Quốc hội thảo luận về Nghị quyết của Quốc hội về miễn, hỗ trợ học phí đối với trẻ em mầm non, học sinh phổ thông, người học chương trình giáo dục phổ thông tại các cơ sở giáo dục trong hệ thống giáo dục quốc dân. Trình bày tờ trình dự thảo Nghị quyết, Bộ trưởng Bộ Giáo dục Đào tạo Nguyễn Kim Sơn cho biết, từ ngày 1/9/2025 Nhà nước sẽ thực hiện miễn, hỗ trợ học phí cho tất cả trẻ em, học sinh từ mầm non 5 tuổi đến trung học cơ sở (riêng học sinh tiểu học công lập không phải đóng học phí, hỗ trợ tiền đóng học phí đối với học sinh tiểu học trong cơ sở giáo dục tư thục ở địa bàn không đủ trường công lập). Tuy nhiên, vẫn còn nhiều đối tượng trẻ em mầm non dưới 5 tuổi, học sinh trung học phổ thông, người học học chương trình giáo dục phổ thông tại các cơ sở giáo dục chưa được pháp luật quy định đầy đủ, thống nhất, vẫn đang phải đóng học phí. Bộ trưởng Bộ Giáo dục Đào tạo Nguyễn Kim Sơn Nghị quyết sẽ bổ sung các đối tượng được miễn, hỗ trợ đóng học phí chưa được pháp luật quy định đầy đủ là: (1) Trẻ em mầm non dưới 5 tuổi đang học tại các cơ sở giáo dục; (2) Học sinh trung học phổ thông, người học Chương trình giáo dục phổ thông tại các cơ sở giáo dục. Theo dự thảo Nghị quyết, Nhà nước sẽ hỗ trợ học phí đối với cả trẻ em mầm non, học sinh phổ thông tại cơ sở giáo dục dân lập, tư thục để đảm bảo quyền tiếp cận giáo dục, thể hiện tính ưu việt của chế độ và thực thi chính sách thống nhất, công bằng đối với người học; khuyến khích phát triển giáo dục ngoài công lập, tăng cường xã hội hóa giáo dục. Chính sách miễn, hỗ trợ học phí đối với trẻ em mầm non, học sinh phổ thông công lập, dân lập, tư thục theo dự thảo Nghị quyết 1. Miễn học phí đối với người học tại các cơ sở giáo dục công lập. 2. Hỗ trợ học phí đối với người học tại các cơ sở giáo dục dân lập, tư thục. Hội đồng nhân dân cấp tỉnh quyết định mức hỗ trợ đóng học phí do Ngân sách nhà nước chi trả thông qua các cơ sở giáo dục. Số ngân sách nhà nước phải đảm bảo thêm khi thực hiện chính sách theo Nghị quyết của Quốc hội là 8,2 nghìn tỷ đồng (Trong đó: Khối công lập là 6,9 nghìn tỷ đồng; Khối dân lập, tư thục: 1,3 nghìn tỷ đồng). Dự kiến thời gian trình thông qua, ban hành Nghị quyết tại Kỳ họp thứ 9, Quốc hội Khóa XV để áp dụng chính sách từ năm học 2025-2026. Hỗ trợ đóng học phí trực tiếp cho người học Thẩm tra dự thảo Nghị quyết, Chủ nhiệm Ủy ban Văn hóa và Xã hội Nguyễn Đắc Vinh nhấn mạnh, Thường trực Ủy ban Văn hóa và Xã hội tán thành sự cần thiết ban hành Nghị quyết về miễn, hỗ trợ học phí; cơ bản nhất trí với chính sách miễn, hỗ trợ học phí. Dự thảo Nghị quyết quy định phương thức hỗ trợ học phí đối với người học chi trả thông qua các cơ sở giáo dục. Tuy nhiên, tại phiên họp thẩm tra sơ bộ mở rộng của Thường trực Ủy ban Văn hóa và Xã hội, các cơ quan thống nhất thực hiện theo phương thức hỗ trợ đóng học phí là cấp trực tiếp cho người học. Thường trực Ủy ban đề nghị thực hiện theo phương thức này. Vì vậy, Thường trực Ủy ban Văn hóa và Xã hội đề nghị cơ quan chủ trì soạn thảo bổ sung quy định về tổ chức thực hiện, trong đó giao Chính phủ hướng dẫn phương thức chi trả tiền hỗ trợ đóng học phí đối với người học trong cơ sở giáo dục ngoài công lập. Chủ nhiệm Ủy ban Văn hóa và Xã hội Nguyễn Đắc Vinh Về kinh phí thực hiện, Thường trực Ủy ban Văn hóa và Xã hội đề nghị cơ quan chủ trì soạn thảo đánh giá kỹ lưỡng khả năng cân đối ngân sách của các địa phương, nhất là các địa phương có điều kiện kinh tế - xã hội khó khăn; bổ sung số kinh phí thực hiện đối với học viên học chương trình giáo dục phổ thông tại cơ sở giáo dục thường xuyên, cơ sở giáo dục khác giảng dạy chương trình giáo dục phổ thông; bổ sung quy định ngân sách trung ương hỗ trợ địa phương chưa cân đối được ngân sách theo quy định của pháp luật về ngân sách nhà nước. Về bố cục dự thảo Nghị quyết: Thường trực Ủy ban đề nghị cơ quan chủ trì soạn thảo cân nhắc tách riêng 2 nhóm đối tượng thụ hưởng chính sách. Phát biểu kết luận nội dung này, Phó Chủ tịch Quốc hội Trần Quang Phương nhấn mạnh, Ủy ban Thường vụ Quốc hội thống nhất về sự cần thiết ban hành nghị quyết nhằm thể chế hóa kịp thời chủ trương của Đảng và Nhà nước về đảm bảo công bằng trong tiếp cận giáo dục và trách nhiệm của nhà nước đối với người học. Phó Chủ tịch Quốc hội Trần Quang Phương Phó Chủ tịch Quốc hội đề nghị Chính phủ nghiên cứu, tiếp thu tối đa ý kiến của Ủy ban Thường vụ Quốc hội và báo cáo thẩm tra sơ bộ để hoàn thiện hồ sơ dự thảo Nghị quyết trình Quốc hội thông qua tại Kỳ họp thứ 9. Phó Chủ tịch Quốc hội nhất trí với chính sách miễn, hỗ trợ học phí đối với trẻ mầm non và học sinh phổ thông công lập, dân lập, tư thục. Đối với chính sách hỗ trợ học phí cho người học tại các cơ sở giáo dục dân lập, tư thục và cơ sở giáo dục thường xuyên, đề nghị Chính phủ chỉ đạo rà soát các đối tượng thụ hưởng và làm rõ cơ sở mở rộng này, bổ sung trong tờ trình và thiết kế các điều khoản phù hợp.",
         "chinh-tri"
        ],
        [
         "5",
         "Đắk Lắk thống nhất miễn nhiệm Chủ tịch UBND tỉnh 100% đại biểu tại kỳ họp chuyên đề lần thứ 18, khóa X, nhiệm kỳ 2021 – 2026 biểu quyết, nhất trí miễn nhiệm chức danh Chủ tịch UBND tỉnh Đắk Lắk với ông Phạm Ngọc Nghị. Ngày 25/4, HĐND tỉnh Đắk Lắk khóa X, nhiệm kỳ 2021-2026 đã tổ chức kỳ họp chuyên đề để xem xét, quyết định công tác nhân sự. Tại kỳ họp lần này, Phó Bí thư Thường trực Tỉnh ủy, Chủ tịch Hội đồng nhân dân tỉnh Đắk Lắk khóa X Huỳnh Thị Chiến Hòa đã trình bày tờ trình về việc đề nghị miễn nhiệm Chủ tịch Ủy ban nhân dân tỉnh Đắk Lắk khóa X, nhiệm kỳ 2021-2026, đối với ông Phạm Ngọc Nghị. Kỳ họp đã biểu quyết thông qua Nghị quyết miễn nhiệm Chủ tịch Ủy ban nhân dân tỉnh khóa X, nhiệm kỳ 2021-2026, đối với ông Phạm Ngọc Nghị với tỷ lệ 100%, lý do nghỉ hưu. Phó Bí thư Thường trực Tỉnh ủy, Chủ tịch Hội đồng nhân dân tỉnh Đắk Lắk khóa X Huỳnh Thị Chiến Hòa trình bày tờ trình về việc đề nghị miễn nhiệm Chủ tịch Ủy ban nhân dân tỉnh Đắk Lắk khóa X, nhiệm kỳ 2021-2026, đối với ông Phạm Ngọc Nghị. Ngày 14/4, Ban thường vụ Tỉnh ủy Đắk Lắk tổ chức hội nghị chuyên đề lần thứ 114 để công bố quyết định của Ban Bí thư về việc cho ông Phạm Ngọc Nghị nghỉ hưu trước tuổi theo đơn xin nghỉ được ông gửi vào cuối tháng 3-2025. Ông Nghị đã gửi đơn xin nghỉ hưu trước tuổi từ khoảng một tuần trước thời điểm Ban Bí thư có quyết định. Ông Phạm Ngọc Nghị (sinh năm 1965), quê quán tỉnh Quảng Ngãi. Trong quá trình công tác, ông từng đảm nhiệm các chức vụ: bí thư Tỉnh Đoàn, bí thư Huyện ủy Krông Ana, giám đốc Sở Kế hoạch và Đầu tư, phó bí thư Tỉnh ủy và giữ chức chủ tịch UBND tỉnh Đắk Lắk từ năm 2014 đến nay. Tính đến thời điểm miễn nhiệm, ông Nghị đã có hơn 10 năm làm chủ tịch UBND tỉnh Đắk Lắk. Trước khi được miễn nhiệm, đầu tháng 4/2025, Ủy ban Kiểm tra Trung ương đã quyết định thi hành kỷ luật bằng hình thức cảnh cáo đối với ông Phạm Ngọc Nghị. Theo kết luận của Ủy ban Kiểm tra Trung ương, ông Nghị đã vi phạm quy định của Đảng, pháp luật của Nhà nước trong thực hiện chức trách, nhiệm vụ được giao; thiếu trách nhiệm trong công tác phòng, chống tham nhũng, tiêu cực; vi phạm những điều đảng viên không được làm và quy định về trách nhiệm nêu gương. Những vi phạm của ông được xác định là gây hậu quả nghiêm trọng, làm giảm uy tín của tổ chức Đảng và chính quyền địa phương, đến mức phải xử lý kỷ luật. Trước đó, ngày 18/3, ông Phạm Ngọc Nghị đã có văn bản ủy nhiệm cho một phó chủ tịch UBND tỉnh trực tiếp chỉ đạo, điều hành và xử lý các công việc phát sinh thuộc thẩm quyền của chủ tịch UBND tỉnh mà trước đó chưa được phân công. Tại kỳ họp sáng 25/4, HĐND tỉnh Đắk Lắk chưa thực hiện việc bầu nhân sự thay thế ông Nghị giữ chức chủ tịch UBND tỉnh.",
         "chinh-tri"
        ]
       ],
       "shape": {
        "columns": 2,
        "rows": 5
>>>>>>> bd3f4a2ae46f6f7b854267b85baf9ff5292a74ac
       }
      },
      "text/html": [
       "<div>\n",
       "<style scoped>\n",
       "    .dataframe tbody tr th:only-of-type {\n",
       "        vertical-align: middle;\n",
       "    }\n",
       "\n",
       "    .dataframe tbody tr th {\n",
       "        vertical-align: top;\n",
       "    }\n",
       "\n",
       "    .dataframe thead th {\n",
       "        text-align: right;\n",
       "    }\n",
       "</style>\n",
       "<table border=\"1\" class=\"dataframe\">\n",
       "  <thead>\n",
       "    <tr style=\"text-align: right;\">\n",
       "      <th></th>\n",
       "      <th>text</th>\n",
       "      <th>category</th>\n",
<<<<<<< HEAD
       "      <th>label</th>\n",
=======
>>>>>>> bd3f4a2ae46f6f7b854267b85baf9ff5292a74ac
       "    </tr>\n",
       "  </thead>\n",
       "  <tbody>\n",
       "    <tr>\n",
       "      <th>0</th>\n",
       "      <td>Thủ tướng: Khẩn trương trình Quốc hội các cơ chế đặc thù thống nhất cho tất cả các dự án đường s...</td>\n",
       "      <td>chinh-tri</td>\n",
<<<<<<< HEAD
       "      <td>0</td>\n",
=======
>>>>>>> bd3f4a2ae46f6f7b854267b85baf9ff5292a74ac
       "    </tr>\n",
       "    <tr>\n",
       "      <th>1</th>\n",
       "      <td>Chủ tịch Quốc hội Trần Thanh Mẫn: Đoàn kết, thống nhất để thành phố Cần Thơ sau sáp nhập phát tr...</td>\n",
       "      <td>chinh-tri</td>\n",
<<<<<<< HEAD
       "      <td>0</td>\n",
=======
       "    </tr>\n",
       "    <tr>\n",
       "      <th>2</th>\n",
       "      <td>Chuyến thăm của Chủ tịch nước truyền thông điệp về giá trị trường tồn của quan hệ Việt Nam – Lào...</td>\n",
       "      <td>chinh-tri</td>\n",
       "    </tr>\n",
       "    <tr>\n",
       "      <th>3</th>\n",
       "      <td>Đề xuất bổ sung miễn học phí cho trẻ dưới 5 tuổi, hỗ trợ học phí trường dân lập Nghị quyết sẽ bổ...</td>\n",
       "      <td>chinh-tri</td>\n",
       "    </tr>\n",
       "    <tr>\n",
       "      <th>5</th>\n",
       "      <td>Đắk Lắk thống nhất miễn nhiệm Chủ tịch UBND tỉnh 100% đại biểu tại kỳ họp chuyên đề lần thứ 18, ...</td>\n",
       "      <td>chinh-tri</td>\n",
>>>>>>> bd3f4a2ae46f6f7b854267b85baf9ff5292a74ac
       "    </tr>\n",
       "  </tbody>\n",
       "</table>\n",
       "</div>"
      ],
      "text/plain": [
       "                                                                                                  text  \\\n",
       "0  Thủ tướng: Khẩn trương trình Quốc hội các cơ chế đặc thù thống nhất cho tất cả các dự án đường s...   \n",
       "1  Chủ tịch Quốc hội Trần Thanh Mẫn: Đoàn kết, thống nhất để thành phố Cần Thơ sau sáp nhập phát tr...   \n",
<<<<<<< HEAD
       "\n",
       "    category  label  \n",
       "0  chinh-tri      0  \n",
       "1  chinh-tri      0  "
      ]
     },
     "execution_count": 4,
=======
       "2  Chuyến thăm của Chủ tịch nước truyền thông điệp về giá trị trường tồn của quan hệ Việt Nam – Lào...   \n",
       "3  Đề xuất bổ sung miễn học phí cho trẻ dưới 5 tuổi, hỗ trợ học phí trường dân lập Nghị quyết sẽ bổ...   \n",
       "5  Đắk Lắk thống nhất miễn nhiệm Chủ tịch UBND tỉnh 100% đại biểu tại kỳ họp chuyên đề lần thứ 18, ...   \n",
       "\n",
       "    category  \n",
       "0  chinh-tri  \n",
       "1  chinh-tri  \n",
       "2  chinh-tri  \n",
       "3  chinh-tri  \n",
       "5  chinh-tri  "
      ]
     },
     "execution_count": 53,
>>>>>>> bd3f4a2ae46f6f7b854267b85baf9ff5292a74ac
     "metadata": {},
     "output_type": "execute_result"
    }
   ],
   "source": [
<<<<<<< HEAD
    "df_final.head(2)"
=======
    "df_final.head()"
>>>>>>> bd3f4a2ae46f6f7b854267b85baf9ff5292a74ac
   ]
  },
  {
   "cell_type": "code",
<<<<<<< HEAD
   "execution_count": 5,
=======
   "execution_count": 54,
   "id": "aedada16",
   "metadata": {},
   "outputs": [
    {
     "name": "stderr",
     "output_type": "stream",
     "text": [
      "/tmp/ipykernel_30294/4274463228.py:4: SettingWithCopyWarning: \n",
      "A value is trying to be set on a copy of a slice from a DataFrame.\n",
      "Try using .loc[row_indexer,col_indexer] = value instead\n",
      "\n",
      "See the caveats in the documentation: https://pandas.pydata.org/pandas-docs/stable/user_guide/indexing.html#returning-a-view-versus-a-copy\n",
      "  df_final['label'] = label_encoder.fit_transform(df_final['category'])\n"
     ]
    }
   ],
   "source": [
    "# Encode nhãn (category)\n",
    "\n",
    "label_encoder = LabelEncoder()\n",
    "df_final['label'] = label_encoder.fit_transform(df_final['category'])"
   ]
  },
  {
   "cell_type": "code",
   "execution_count": 55,
   "id": "6aebf9dc",
   "metadata": {},
   "outputs": [],
   "source": [
    "# Train test split\n",
    "\n",
    "train_texts, val_texts, train_labels, val_labels = train_test_split(\n",
    "    df_final['text'].tolist(),\n",
    "    df_final['label'].tolist(),\n",
    "    test_size=0.1,\n",
    "    random_state=42,\n",
    "    stratify=df_final['label']\n",
    ")"
   ]
  },
  {
   "cell_type": "code",
   "execution_count": 56,
>>>>>>> bd3f4a2ae46f6f7b854267b85baf9ff5292a74ac
   "id": "9c3d8b87",
   "metadata": {},
   "outputs": [
    {
<<<<<<< HEAD
     "data": {
      "application/vnd.microsoft.datawrangler.viewer.v0+json": {
       "columns": [
        {
         "name": "index",
         "rawType": "int64",
         "type": "integer"
        },
        {
         "name": "text",
         "rawType": "object",
         "type": "string"
        },
        {
         "name": "category",
         "rawType": "object",
         "type": "string"
        },
        {
         "name": "label",
         "rawType": "int64",
         "type": "integer"
        }
       ],
       "conversionMethod": "pd.DataFrame",
       "ref": "0572cef9-99d3-4002-8290-bf6c6c978f4c",
       "rows": [
        [
         "1086",
         "\"Siêu thị thế giới\" Nghĩa Ô trước cơn bão thuế quan Nghĩa Ô - nơi được gọi là \"siêu thị thế giới\", bán \"đủ mọi thứ trên đời\" cũng đang chịu những tác động nhất định của cơn bão thuế quan. Tuyết rơi bên ngoài nhưng bên trong nhà nhạc Giáng sinh vẫn vang lên, không khí rực rỡ với cây thông Noel được trang trí bởi đèn dây, những đôi tất và ngôi sao lấp lánh. Đây là cảnh tượng được hầu hết người Mỹ yêu thích mỗi khi Giáng sinh đến. Tuy nhiên, ít ai biết được chính xác những đồ trang trí ấy đến từ đâu. Theo CNN, hầu hết đồ trang trí trên cây thông Noel tại các gia đình Mỹ đều có xuất xứ từ một thành phố nhỏ ở tỉnh Chiết Giang, Trung Quốc - Nghĩa Ô. Có biệt danh là \"Thị trấn Giáng sinh\", Nghĩa Ô cung cấp gần 90% các mặt hàng trang trí cho dịp nghỉ lễ quan trọng nhất năm tại Mỹ. Rộng bằng 750 lần bóng đá Theo CNN, chợ Nghĩa Ô là khu phức hợp có diện tích gần 1.000 mẫu Anh, tương đương với khoảng 750 sân bóng đá. Bên trong, người mua đi lại trên những hành lang hẹp tràn ngập hàng hóa, từ búp bê ông già Noel biết chơi đàn piano đến cây thông Noel nhân tạo, cũng như vô số mặt hàng khác được dùng trong các gia đình Mỹ, như mũ \"Make America Great Again\", súng massage hay ghế cắm trại. Toàn cảnh chợ Nghĩa Ô - nơi được coi là \"siêu thị của thế giới\" (Ảnh: CNN) Những ngày gần đây, có một luồng lo lắng tiềm ẩn ở Nghĩa Ô khi mức thuế đối ứng áp cho hàng hoá Trung Quốc nhập khẩu vào Mỹ đã lên tới 145%. Đây là mức thuế cao nhất mà Mỹ áp cho hàng hóa của một quốc gia trong gần 1 thế kỷ. Với nhiều thương nhân ở Nghĩa Ô, mức thuế này khiến họ mất khách hàng, lợi nhuận bị cắt giảm và buộc họ phải chuyển hướng sang các thị trường khác. Trả lời phỏng vấn của kênh CNN, nhiều người đã bày tỏ sự lo ngại và hoang mang trước những diến biến mới. Hầu hết thương nhân đều mong muốn có một \"giải pháp tốt\" trước khi mọi thứ bị gián đoạn nghiêm trọng. \"Một số khách hàng lâu năm đã ngừng giao dịch và tất cả chúng tôi đều rất buồn\", cô Ran Hongyan, 43 tuổi, người đã bán đồ trang trí Giáng sinh trong 15 năm, cho biết. Sau khi mức thuế mới được áp dụng, cô đã cố gắng giảm giá cho khách hàng Mỹ để cứu vãn nhưng không hiệu quả. Tám trong số mười người đã hủy hợp đồng trong năm nay, gây ra khoản lỗ hơn 135.000 USD. Cô Ran cho biết lượng hàng xuất khẩu từ Hoa Kỳ chỉ chiếm một phần trong tổng số khách hàng của mình, nhưng vấn đề ở đây không chỉ là những con số. Nhiều người là đối tác lâu năm. Ran đã gặp một khách hàng Mỹ ở hội chợ thương mại Trung Quốc cách đây nhiều năm và họ đã làm việc cùng nhau trong gần một thập kỷ. Khách này thậm chí còn đến thăm nhà máy sản xuất của cô tại Trung Quốc \"Vì vấn đề thuế quan, anh ấy nói rằng không có lựa chọn nào khác ngoài việc hủy bỏ đơn hàng trong năm nay và xem điều gì sẽ xảy ra sau đó\", Ran nói với CNN. \"Chúng tôi đã hợp tác với nhau trong một thời gian dài\", cô buồn bã nói thêm. Cô Ran Hongyan, 43 tuổi, người đã bán đồ trang trí Giáng sinh ở chợ Nghĩa Ô 15 năm (Ảnh: CNN) Người tiêu dùng các nước tiết kiệm, các quốc gia chi tiêu ít đi. Điều này cũng không tốt cho \"thủ phủ hàng hoá\" Nghĩa Ô. CNN nhận định, theo tổng thống Donald Trump, việc áp thuế đối ứng một phần nhằm khôi phục sản xuất ở Mỹ, nơi mà theo ông Trump là \"đã bị phá hủy bởi các thỏa thuận thương mại tồi tệ\". \"Nhưng thật khó để thấy một tương lai mà các sản phẩm được bán ở Nghĩa Ô có thể được sản xuất tại Mỹ. Trừ khi người tiêu dùng sẵn sàng trả nhiều tiền hơn cho một thứ phổ biến và hiện đang rẻ như đồ trang trí Giáng sinh bằng nhựa\", CNN viết. Campuchia là quốc gia xuất khẩu đồ trang trí Giáng sinh lớn thứ hai sang Hoa Kỳ nhưng quốc gia này cũng đang bị áp thuế 49%. Hiện mức thuế này đang tạm dừng 90 ngày. Thủ phủ hàng hóa của thế giới Nghĩa Ô là thành phố tương đối nhỏ theo tiêu chuẩn ở Trung Quốc. Dân số ở đây chưa đến hai triệu người nhưng thành phố lại có dấu ấn to lớn trong thương mại toàn cầu. Năm ngoái, Nghĩa Ô đã xuất  81 tỷ USD hàng hóa ra nước ngoài, trong đó khoảng 11,5 tỷ  USD được chuyển đến Hoa Kỳ, theo dữ liệu hải quan thành phố. Dấu ấn này được thể hiện rõ ngay khi du khách đặt chân đến thành phố. Hàng loạt những biển hiệu nổi bật ở sân bay với nội dung: \"Kinh doanh toàn cầu tại Nghĩa Ô!\". Sau khi mức thuế đối ứng được áp lên hàng hóa Trung Quốc, không khí ở Nghĩa Ô vẫn rất nhộn nhịp. Hoa Kỳ hiện là quốc gia duy nhất áp dụng thuế đối ứng với nền kinh tế lớn thứ hai thế giới. Khu phức hợp nhiều tầng, nhiều khối nhà này tự hào có hàng trăm nghìn loại hàng hóa khác nhau. Uớc tính có khoảng 70.000 gian hàng tại nơi được coi là \"siêu thị của thế giới này\". Tuy nhiên, cơn bão thuế quan cũng phần nào ảnh hưởng đến Nghĩa Ô. Mũ thuê dòng chữ \"Make America great again\" được bán ở Nghĩa Ô (Ảnh: CNN) Theo ghi nhận của CNN, những ngày qua, người mua ở nhiều quốc gia khác nhau vẫn đến Nghĩa Ô nhưng vắng bóng các thương nhân Mỹ. Nhiều người bán hàng tỏ ra lo lắng với tình hình mới. Cô Li Xinyao kinh doanh hoa giả ở Nghĩa Ô kể từ năm khu chợ này được thành lập là 1993. Mặc dù hiện khách hàng của cô không có ai từ Mỹ nhưng doanh thu của cửa hàng vẫn bị ảnh hưởng sau những biến động thuế quan trên toàn thế giới. \"Khi có căng thẳng thương mại giữa Trung Quốc và Mỹ, tất cả mọi người sẽ lo lắng về điều đó. Khách hàng của chúng tôi có thể sẽ giữ lại (đơn đặt hàng)\", cô Li chia sẻ. Nền kinh tế toàn cầu đầy biến động đang gây tổn hại đến doanh số bán hàng của Li vì đồ trang trí, giống như hoa nhựa, có thể là mặt hàng đầu tiên bị cắt giảm đối với những người cần thắt chặt chi tiêu. \"Nếu chúng ta không thể có một cuộc sống hạnh phúc, ai sẽ quan tâm đến đồ trang trí?\", Li nói. Với những thương nhân có mối làm ăn chặt chẽ với các đối tác Mỹ, giờ đây họ sẽ cần tìm những cơ hội khác. Sự chuyển hướng này đã diễn ra trong nhiều năm qua. Theo CNN, kể từ năm 2018, \"Bắc Kinh đã đa dạng hóa chuỗi cung ứng, mở rộng quan hệ thương mại với phần còn lại của thế giới, qua đó giảm thị phần xuất khẩu vào Mỹ\". Hàng hoá xuất khẩu của Trung Quốc ở Thượng Hải (Ảnh: AP) Theo số liệu chính thức, xuất khẩu của Trung Quốc sang Hoa Kỳ chiếm 19,2% tổng số lô hàng xuất khẩu ra nước ngoài vào năm 2018 nhưng đã  hiện giảm xuống còn 14,7% vào năm 2024. Điều này có nghĩa là Trung Quốc hiện phụ thuộc ít hơn vào các doanh nghiệp Hoa Kỳ so với trước đây. Đây cũng là cách tiếp cận mà những người bán hàng ở Nghĩa Ô đang áp dụng. \"Tôi hiện đang chuyển tất cả hàng hóa bị dừng lại ở Mỹ sang tuyến EU\", Nie Ziqin, 39 tuổi, chủ cửa hàng bán đồ trang trí Halloween tại Nghĩa Ô cho hay. Mặc dù doanh số bán hàng bị giảm \"đáng kể\" vì mức thuế quan cao, Nie vẫn bày tỏ sự lạc quan. \"Tôi vẫn còn thị trường trong nước và thị trường EU. Tôi cũng bán hàng qua thương mại điện tử xuyên biên giới. Năm ngoái, chúng tôi đã bắt đầu thiết kế các sản phẩm có thể bán cho thị trường nội địa\", Nie nói thêm. Tuần trước, Trung Quốc đã tăng thuế đối với hàng hóa của Hoa Kỳ lên 125%. Bắc Kinh cũng khẳng định nước này \"không sợ hãi\" với những đòn thuế quan mới. \"Chính phủ của chúng tôi đang làm tốt những việc này\", cô Li, chủ cửa hàng bán hoa giả cho hay. Tuy nhiên, dù lạc quan nhưng các thương nhân ở đây vẫn lo lắng và chuẩn bị cho những tác động mạnh mà biến động của kinh tế thế giới có thể mang lại.",
         "kinh-te",
         "1"
        ],
        [
         "1087",
         "Các hãng xe điện Trung Quốc tăng cường hiện diện tại Anh Triển lãm xe điện Vương quốc Anh chứng kiến sự nổi bật của các thương hiệu xe điện Trung Quốc, khi nước này tiếp tục xem châu Âu là thị trường quan trọng hàng đầu. Triển lãm xe điện lớn nhất của Vương quốc Anh, Everything Electric, đã khai mạc tại thủ đô London, thu hút sự tham gia của nhiều tên tuổi lớn trong ngành công nghiệp xe điện. Triển lãm năm nay chứng kiến sự hiện diện nổi bật của các thương hiệu xe điện Trung Quốc, khi nước này tiếp tục xem châu Âu là thị trường quan trọng hàng đầu trong bối cảnh căng thẳng thuế quan với Mỹ chưa có dấu hiệu lắng dịu. Trong nhiều năm, Tesla luôn chiếm giữ vị trí trung tâm của cuộc triển lãm xe điện tại London, Anh, tuy nhiên năm nay hãng xe điện lớn nhất nước Mỹ đã phải nhường vị trí này cho các hãng xe Trung Quốc. Các hãng xe Trung Quốc đã mang đến hàng chục mẫu xe mới, thu hút người xem. Thị trường Anh đang nổi lên là điểm đến hấp dẫn với ngành công nghiệp xe điện, khi xu hướng tiêu dùng thay đổi nhanh chóng. Ông Dan Caesar - Giám đốc điều hành Công ty Electric Vehicles UK cho biết: \"Ngành công nghiệp ô tô đang thay đổi chóng mặt. Xe điện là xu hướng mới. Ngày nay, cứ một trong bốn chiếc xe mới được bán ra ở Anh là xe điện, ngoài ra thị trường xe điện đã qua sử dụng cũng phát triển rất nhanh. Nhiều nhà sản xuất đến từ Trung Quốc và Hàn Quốc, họ chiếm giữ vị trí trung tâm của triển lãm, cung cấp nhiều lựa chọn và giúp giảm giá thành. Thực tế là giá xe điện bây giờ còn rẻ hơn cả xe xăng\". Đã có hơn 380.000 xe ô tô điện được bán ra tại Anh vào năm 2024, tăng 21,4% so với năm 2023. Dự báo con số này sẽ tăng lên mức 440.000 xe trong năm 2025, đánh dấu thêm một năm tăng trưởng 2 con số nữa. Tốc độ phát triển nhanh chóng đã biến Anh trở thành một trong những thị trường trọng tâm của các hãng xe Trung Quốc. Các hãng xe lớn như BYD đã tập trung đẩy mạnh quảng bá đến khách hàng Anh. Ông Mark Blundell - Trưởng bộ phận Marketing, Công ty BYD Europe cho biết: \"Chúng tôi mang đến triển lãm năm nay mẫu xe BYD Sealion 7, sở hữu động cơ mạnh nhất trong các dòng xe điện hiện nay với tốc độ 23.000 vòng mỗi phút\". Chính quyền Tổng thống Mỹ Donald Trump hiện đang đánh thuế 25% lên toàn bộ ô tô nhập khẩu. Theo các nhà phân tích, điều này sẽ giúp các hãng xe Trung Quốc tăng sức cạnh tranh trước các đối thủ quốc tế. Ông Dan Caesar - Giám đốc điều hành Công ty Electric Vehicles UK cho hay: \"Các hãng xe Đức, Nhật Bản và Hàn Quốc chịu ảnh hưởng nặng nề nhất từ chính sách thuế của Mỹ. Các hãng xe của Anh cũng chịu ảnh hưởng. Điều hài hước là nước chịu ảnh hưởng ít nhất lại là Trung Quốc vì đằng nào họ cũng không xuất khẩu được sang Mỹ. Thế nên, chính sách thuế quan của tổng thống Trump sẽ làm suy yếu các đối thủ cạnh tranh của Trung Quốc trong ngành công nghiệp ô tô\". Các hãng xe Trung Quốc đang đẩy mạnh đa dạng hóa thị trường và tìm kiếm các thị trưởng triển vọng mới, đặc biệt tại châu Âu, nơi các hãng xe Trung Quốc đã có sẵn mạng lưới phân phối và cả các nhà máy sản xuất nhằm tránh nguy cơ bị áp thuế nhập khẩu.",
         "kinh-te",
         "1"
        ]
       ],
       "shape": {
        "columns": 3,
        "rows": 2
       }
      },
      "text/html": [
       "<div>\n",
       "<style scoped>\n",
       "    .dataframe tbody tr th:only-of-type {\n",
       "        vertical-align: middle;\n",
       "    }\n",
       "\n",
       "    .dataframe tbody tr th {\n",
       "        vertical-align: top;\n",
       "    }\n",
       "\n",
       "    .dataframe thead th {\n",
       "        text-align: right;\n",
       "    }\n",
       "</style>\n",
       "<table border=\"1\" class=\"dataframe\">\n",
       "  <thead>\n",
       "    <tr style=\"text-align: right;\">\n",
       "      <th></th>\n",
       "      <th>text</th>\n",
       "      <th>category</th>\n",
       "      <th>label</th>\n",
       "    </tr>\n",
       "  </thead>\n",
       "  <tbody>\n",
       "    <tr>\n",
       "      <th>1086</th>\n",
       "      <td>\"Siêu thị thế giới\" Nghĩa Ô trước cơn bão thuế quan Nghĩa Ô - nơi được gọi là \"siêu thị thế giới...</td>\n",
       "      <td>kinh-te</td>\n",
       "      <td>1</td>\n",
       "    </tr>\n",
       "    <tr>\n",
       "      <th>1087</th>\n",
       "      <td>Các hãng xe điện Trung Quốc tăng cường hiện diện tại Anh Triển lãm xe điện Vương quốc Anh chứng ...</td>\n",
       "      <td>kinh-te</td>\n",
       "      <td>1</td>\n",
       "    </tr>\n",
       "  </tbody>\n",
       "</table>\n",
       "</div>"
      ],
      "text/plain": [
       "                                                                                                     text  \\\n",
       "1086  \"Siêu thị thế giới\" Nghĩa Ô trước cơn bão thuế quan Nghĩa Ô - nơi được gọi là \"siêu thị thế giới...   \n",
       "1087  Các hãng xe điện Trung Quốc tăng cường hiện diện tại Anh Triển lãm xe điện Vương quốc Anh chứng ...   \n",
       "\n",
       "     category  label  \n",
       "1086  kinh-te      1  \n",
       "1087  kinh-te      1  "
      ]
     },
     "execution_count": 5,
     "metadata": {},
     "output_type": "execute_result"
    }
   ],
   "source": [
    "df_final.tail(2)"
=======
     "name": "stderr",
     "output_type": "stream",
     "text": [
      "/home/lhduc02/anaconda3/envs/nlp_research/lib/python3.10/site-packages/huggingface_hub/file_download.py:797: FutureWarning: `resume_download` is deprecated and will be removed in version 1.0.0. Downloads always resume when possible. If you want to force a new download, use `force_download=True`.\n",
      "  warnings.warn(\n",
      "Special tokens have been added in the vocabulary, make sure the associated word embeddings are fine-tuned or trained.\n"
     ]
    }
   ],
   "source": [
    "# Tokenization\n",
    "\n",
    "tokenizer = AutoTokenizer.from_pretrained(\"vinai/phobert-base\", use_fast=False)\n",
    "\n",
    "train_encodings = tokenizer(train_texts, truncation=True, padding=True, max_length=256)\n",
    "val_encodings = tokenizer(val_texts, truncation=True, padding=True, max_length=256)\n"
>>>>>>> bd3f4a2ae46f6f7b854267b85baf9ff5292a74ac
   ]
  },
  {
   "cell_type": "code",
<<<<<<< HEAD
   "execution_count": null,
   "id": "cc6c9f31",
   "metadata": {},
   "outputs": [],
   "source": []
=======
   "execution_count": 57,
   "id": "cc6c9f31",
   "metadata": {},
   "outputs": [],
   "source": [
    "# Tạo Dataset\n",
    "\n",
    "class NewsDataset(torch.utils.data.Dataset):\n",
    "    def __init__(self, encodings, labels):\n",
    "        self.encodings = encodings\n",
    "        self.labels = labels\n",
    "    \n",
    "    def __getitem__(self, idx):\n",
    "        item = {key: torch.tensor(val[idx]) for key, val in self.encodings.items()}\n",
    "        item['labels'] = torch.tensor(self.labels[idx])\n",
    "        return item\n",
    "\n",
    "    def __len__(self):\n",
    "        return len(self.labels)\n",
    "\n",
    "train_dataset = NewsDataset(train_encodings, train_labels)\n",
    "val_dataset = NewsDataset(val_encodings, val_labels)\n"
   ]
  },
  {
   "cell_type": "code",
   "execution_count": 58,
   "id": "18c2bf8d",
   "metadata": {},
   "outputs": [
    {
     "name": "stderr",
     "output_type": "stream",
     "text": [
      "Some weights of the model checkpoint at vinai/phobert-base were not used when initializing RobertaForSequenceClassification: ['roberta.pooler.dense.weight', 'roberta.pooler.dense.bias', 'lm_head.bias', 'lm_head.layer_norm.bias', 'lm_head.dense.bias', 'lm_head.decoder.weight', 'lm_head.dense.weight', 'lm_head.decoder.bias', 'lm_head.layer_norm.weight']\n",
      "- This IS expected if you are initializing RobertaForSequenceClassification from the checkpoint of a model trained on another task or with another architecture (e.g. initializing a BertForSequenceClassification model from a BertForPreTraining model).\n",
      "- This IS NOT expected if you are initializing RobertaForSequenceClassification from the checkpoint of a model that you expect to be exactly identical (initializing a BertForSequenceClassification model from a BertForSequenceClassification model).\n",
      "Some weights of RobertaForSequenceClassification were not initialized from the model checkpoint at vinai/phobert-base and are newly initialized: ['classifier.dense.weight', 'classifier.out_proj.weight', 'classifier.dense.bias', 'classifier.out_proj.bias']\n",
      "You should probably TRAIN this model on a down-stream task to be able to use it for predictions and inference.\n"
     ]
    }
   ],
   "source": [
    "# Load model\n",
    "\n",
    "model = AutoModelForSequenceClassification.from_pretrained(\n",
    "    \"vinai/phobert-base\",\n",
    "    num_labels=len(label_encoder.classes_)  # số lượng class\n",
    ")\n"
   ]
  },
  {
   "cell_type": "code",
   "execution_count": 64,
   "id": "a640debf",
   "metadata": {},
   "outputs": [
    {
     "ename": "ValueError",
     "evalue": "Default process group has not been initialized, please make sure to call init_process_group.",
     "output_type": "error",
     "traceback": [
      "\u001b[0;31m---------------------------------------------------------------------------\u001b[0m",
      "\u001b[0;31mValueError\u001b[0m                                Traceback (most recent call last)",
      "Cell \u001b[0;32mIn[64], line 38\u001b[0m\n\u001b[1;32m     28\u001b[0m     \u001b[38;5;28;01mreturn\u001b[39;00m {\u001b[38;5;124m\"\u001b[39m\u001b[38;5;124maccuracy\u001b[39m\u001b[38;5;124m\"\u001b[39m: acc, \u001b[38;5;124m\"\u001b[39m\u001b[38;5;124mf1\u001b[39m\u001b[38;5;124m\"\u001b[39m: f1, \u001b[38;5;124m\"\u001b[39m\u001b[38;5;124mprecision\u001b[39m\u001b[38;5;124m\"\u001b[39m: precision, \u001b[38;5;124m\"\u001b[39m\u001b[38;5;124mrecall\u001b[39m\u001b[38;5;124m\"\u001b[39m: recall}\n\u001b[1;32m     30\u001b[0m trainer \u001b[38;5;241m=\u001b[39m Trainer(\n\u001b[1;32m     31\u001b[0m     model\u001b[38;5;241m=\u001b[39mmodel,\n\u001b[1;32m     32\u001b[0m     args\u001b[38;5;241m=\u001b[39mtraining_args,\n\u001b[0;32m   (...)\u001b[0m\n\u001b[1;32m     35\u001b[0m     compute_metrics\u001b[38;5;241m=\u001b[39mcompute_metrics,\n\u001b[1;32m     36\u001b[0m )\n\u001b[0;32m---> 38\u001b[0m \u001b[43mtrainer\u001b[49m\u001b[38;5;241;43m.\u001b[39;49m\u001b[43mtrain\u001b[49m\u001b[43m(\u001b[49m\u001b[43m)\u001b[49m\n",
      "File \u001b[0;32m~/anaconda3/envs/nlp_research/lib/python3.10/site-packages/transformers/trainer.py:1662\u001b[0m, in \u001b[0;36mTrainer.train\u001b[0;34m(self, resume_from_checkpoint, trial, ignore_keys_for_eval, **kwargs)\u001b[0m\n\u001b[1;32m   1657\u001b[0m     \u001b[38;5;28mself\u001b[39m\u001b[38;5;241m.\u001b[39mmodel_wrapped \u001b[38;5;241m=\u001b[39m \u001b[38;5;28mself\u001b[39m\u001b[38;5;241m.\u001b[39mmodel\n\u001b[1;32m   1659\u001b[0m inner_training_loop \u001b[38;5;241m=\u001b[39m find_executable_batch_size(\n\u001b[1;32m   1660\u001b[0m     \u001b[38;5;28mself\u001b[39m\u001b[38;5;241m.\u001b[39m_inner_training_loop, \u001b[38;5;28mself\u001b[39m\u001b[38;5;241m.\u001b[39m_train_batch_size, args\u001b[38;5;241m.\u001b[39mauto_find_batch_size\n\u001b[1;32m   1661\u001b[0m )\n\u001b[0;32m-> 1662\u001b[0m \u001b[38;5;28;01mreturn\u001b[39;00m \u001b[43minner_training_loop\u001b[49m\u001b[43m(\u001b[49m\n\u001b[1;32m   1663\u001b[0m \u001b[43m    \u001b[49m\u001b[43margs\u001b[49m\u001b[38;5;241;43m=\u001b[39;49m\u001b[43margs\u001b[49m\u001b[43m,\u001b[49m\n\u001b[1;32m   1664\u001b[0m \u001b[43m    \u001b[49m\u001b[43mresume_from_checkpoint\u001b[49m\u001b[38;5;241;43m=\u001b[39;49m\u001b[43mresume_from_checkpoint\u001b[49m\u001b[43m,\u001b[49m\n\u001b[1;32m   1665\u001b[0m \u001b[43m    \u001b[49m\u001b[43mtrial\u001b[49m\u001b[38;5;241;43m=\u001b[39;49m\u001b[43mtrial\u001b[49m\u001b[43m,\u001b[49m\n\u001b[1;32m   1666\u001b[0m \u001b[43m    \u001b[49m\u001b[43mignore_keys_for_eval\u001b[49m\u001b[38;5;241;43m=\u001b[39;49m\u001b[43mignore_keys_for_eval\u001b[49m\u001b[43m,\u001b[49m\n\u001b[1;32m   1667\u001b[0m \u001b[43m\u001b[49m\u001b[43m)\u001b[49m\n",
      "File \u001b[0;32m~/anaconda3/envs/nlp_research/lib/python3.10/site-packages/transformers/trainer.py:1749\u001b[0m, in \u001b[0;36mTrainer._inner_training_loop\u001b[0;34m(self, batch_size, args, resume_from_checkpoint, trial, ignore_keys_for_eval)\u001b[0m\n\u001b[1;32m   1746\u001b[0m \u001b[38;5;28;01mif\u001b[39;00m args\u001b[38;5;241m.\u001b[39mgradient_checkpointing:\n\u001b[1;32m   1747\u001b[0m     \u001b[38;5;28mself\u001b[39m\u001b[38;5;241m.\u001b[39mmodel\u001b[38;5;241m.\u001b[39mgradient_checkpointing_enable()\n\u001b[0;32m-> 1749\u001b[0m model \u001b[38;5;241m=\u001b[39m \u001b[38;5;28;43mself\u001b[39;49m\u001b[38;5;241;43m.\u001b[39;49m\u001b[43m_wrap_model\u001b[49m\u001b[43m(\u001b[49m\u001b[38;5;28;43mself\u001b[39;49m\u001b[38;5;241;43m.\u001b[39;49m\u001b[43mmodel_wrapped\u001b[49m\u001b[43m)\u001b[49m\n\u001b[1;32m   1751\u001b[0m \u001b[38;5;28;01mif\u001b[39;00m is_sagemaker_mp_enabled() \u001b[38;5;129;01mand\u001b[39;00m resume_from_checkpoint \u001b[38;5;129;01mis\u001b[39;00m \u001b[38;5;129;01mnot\u001b[39;00m \u001b[38;5;28;01mNone\u001b[39;00m:\n\u001b[1;32m   1752\u001b[0m     \u001b[38;5;28mself\u001b[39m\u001b[38;5;241m.\u001b[39m_load_from_checkpoint(resume_from_checkpoint, model)\n",
      "File \u001b[0;32m~/anaconda3/envs/nlp_research/lib/python3.10/site-packages/transformers/trainer.py:1569\u001b[0m, in \u001b[0;36mTrainer._wrap_model\u001b[0;34m(self, model, training, dataloader)\u001b[0m\n\u001b[1;32m   1567\u001b[0m     \u001b[38;5;28;01mif\u001b[39;00m is_torch_neuroncore_available():\n\u001b[1;32m   1568\u001b[0m         \u001b[38;5;28;01mreturn\u001b[39;00m model\n\u001b[0;32m-> 1569\u001b[0m     model \u001b[38;5;241m=\u001b[39m \u001b[43mnn\u001b[49m\u001b[38;5;241;43m.\u001b[39;49m\u001b[43mparallel\u001b[49m\u001b[38;5;241;43m.\u001b[39;49m\u001b[43mDistributedDataParallel\u001b[49m\u001b[43m(\u001b[49m\n\u001b[1;32m   1570\u001b[0m \u001b[43m        \u001b[49m\u001b[43mmodel\u001b[49m\u001b[43m,\u001b[49m\n\u001b[1;32m   1571\u001b[0m \u001b[43m        \u001b[49m\u001b[43mdevice_ids\u001b[49m\u001b[38;5;241;43m=\u001b[39;49m\u001b[43m[\u001b[49m\u001b[38;5;28;43mself\u001b[39;49m\u001b[38;5;241;43m.\u001b[39;49m\u001b[43margs\u001b[49m\u001b[38;5;241;43m.\u001b[39;49m\u001b[43mlocal_rank\u001b[49m\u001b[43m]\u001b[49m\u001b[43m \u001b[49m\u001b[38;5;28;43;01mif\u001b[39;49;00m\u001b[43m \u001b[49m\u001b[38;5;28;43mself\u001b[39;49m\u001b[38;5;241;43m.\u001b[39;49m\u001b[43margs\u001b[49m\u001b[38;5;241;43m.\u001b[39;49m\u001b[43m_n_gpu\u001b[49m\u001b[43m \u001b[49m\u001b[38;5;241;43m!=\u001b[39;49m\u001b[43m \u001b[49m\u001b[38;5;241;43m0\u001b[39;49m\u001b[43m \u001b[49m\u001b[38;5;28;43;01melse\u001b[39;49;00m\u001b[43m \u001b[49m\u001b[38;5;28;43;01mNone\u001b[39;49;00m\u001b[43m,\u001b[49m\n\u001b[1;32m   1572\u001b[0m \u001b[43m        \u001b[49m\u001b[43moutput_device\u001b[49m\u001b[38;5;241;43m=\u001b[39;49m\u001b[38;5;28;43mself\u001b[39;49m\u001b[38;5;241;43m.\u001b[39;49m\u001b[43margs\u001b[49m\u001b[38;5;241;43m.\u001b[39;49m\u001b[43mlocal_rank\u001b[49m\u001b[43m \u001b[49m\u001b[38;5;28;43;01mif\u001b[39;49;00m\u001b[43m \u001b[49m\u001b[38;5;28;43mself\u001b[39;49m\u001b[38;5;241;43m.\u001b[39;49m\u001b[43margs\u001b[49m\u001b[38;5;241;43m.\u001b[39;49m\u001b[43m_n_gpu\u001b[49m\u001b[43m \u001b[49m\u001b[38;5;241;43m!=\u001b[39;49m\u001b[43m \u001b[49m\u001b[38;5;241;43m0\u001b[39;49m\u001b[43m \u001b[49m\u001b[38;5;28;43;01melse\u001b[39;49;00m\u001b[43m \u001b[49m\u001b[38;5;28;43;01mNone\u001b[39;49;00m\u001b[43m,\u001b[49m\n\u001b[1;32m   1573\u001b[0m \u001b[43m        \u001b[49m\u001b[38;5;241;43m*\u001b[39;49m\u001b[38;5;241;43m*\u001b[39;49m\u001b[43mkwargs\u001b[49m\u001b[43m,\u001b[49m\n\u001b[1;32m   1574\u001b[0m \u001b[43m    \u001b[49m\u001b[43m)\u001b[49m\n\u001b[1;32m   1576\u001b[0m \u001b[38;5;66;03m# torch.compile() needs to be called after wrapping the model with FSDP or DDP\u001b[39;00m\n\u001b[1;32m   1577\u001b[0m \u001b[38;5;66;03m# to ensure that it accounts for the graph breaks required by those wrappers\u001b[39;00m\n\u001b[1;32m   1578\u001b[0m \u001b[38;5;28;01mif\u001b[39;00m \u001b[38;5;28mself\u001b[39m\u001b[38;5;241m.\u001b[39margs\u001b[38;5;241m.\u001b[39mtorch_compile:\n",
      "File \u001b[0;32m~/anaconda3/envs/nlp_research/lib/python3.10/site-packages/torch/nn/parallel/distributed.py:663\u001b[0m, in \u001b[0;36mDistributedDataParallel.__init__\u001b[0;34m(self, module, device_ids, output_device, dim, broadcast_buffers, process_group, bucket_cap_mb, find_unused_parameters, check_reduction, gradient_as_bucket_view, static_graph, delay_all_reduce_named_params, param_to_hook_all_reduce, mixed_precision, device_mesh)\u001b[0m\n\u001b[1;32m    659\u001b[0m     \u001b[38;5;28;01mraise\u001b[39;00m \u001b[38;5;167;01mRuntimeError\u001b[39;00m(\n\u001b[1;32m    660\u001b[0m         \u001b[38;5;124m\"\u001b[39m\u001b[38;5;124mCannot specify both process_group and device_mesh arguments.\u001b[39m\u001b[38;5;124m\"\u001b[39m\n\u001b[1;32m    661\u001b[0m     )\n\u001b[1;32m    662\u001b[0m \u001b[38;5;28;01melif\u001b[39;00m process_group \u001b[38;5;129;01mis\u001b[39;00m \u001b[38;5;28;01mNone\u001b[39;00m \u001b[38;5;129;01mand\u001b[39;00m device_mesh \u001b[38;5;129;01mis\u001b[39;00m \u001b[38;5;28;01mNone\u001b[39;00m:\n\u001b[0;32m--> 663\u001b[0m     \u001b[38;5;28mself\u001b[39m\u001b[38;5;241m.\u001b[39mprocess_group \u001b[38;5;241m=\u001b[39m \u001b[43m_get_default_group\u001b[49m\u001b[43m(\u001b[49m\u001b[43m)\u001b[49m\n\u001b[1;32m    664\u001b[0m \u001b[38;5;28;01melif\u001b[39;00m device_mesh \u001b[38;5;129;01mis\u001b[39;00m \u001b[38;5;28;01mNone\u001b[39;00m:\n\u001b[1;32m    665\u001b[0m     \u001b[38;5;28mself\u001b[39m\u001b[38;5;241m.\u001b[39mprocess_group \u001b[38;5;241m=\u001b[39m process_group\n",
      "File \u001b[0;32m~/anaconda3/envs/nlp_research/lib/python3.10/site-packages/torch/distributed/distributed_c10d.py:1302\u001b[0m, in \u001b[0;36m_get_default_group\u001b[0;34m()\u001b[0m\n\u001b[1;32m   1300\u001b[0m \u001b[38;5;250m\u001b[39m\u001b[38;5;124;03m\"\"\"Get the default process group created by init_process_group.\"\"\"\u001b[39;00m\n\u001b[1;32m   1301\u001b[0m \u001b[38;5;28;01mif\u001b[39;00m \u001b[38;5;129;01mnot\u001b[39;00m is_initialized():\n\u001b[0;32m-> 1302\u001b[0m     \u001b[38;5;28;01mraise\u001b[39;00m \u001b[38;5;167;01mValueError\u001b[39;00m(\n\u001b[1;32m   1303\u001b[0m         \u001b[38;5;124m\"\u001b[39m\u001b[38;5;124mDefault process group has not been initialized, \u001b[39m\u001b[38;5;124m\"\u001b[39m\n\u001b[1;32m   1304\u001b[0m         \u001b[38;5;124m\"\u001b[39m\u001b[38;5;124mplease make sure to call init_process_group.\u001b[39m\u001b[38;5;124m\"\u001b[39m\n\u001b[1;32m   1305\u001b[0m     )\n\u001b[1;32m   1306\u001b[0m \u001b[38;5;28;01mif\u001b[39;00m TYPE_CHECKING:\n\u001b[1;32m   1307\u001b[0m     \u001b[38;5;28;01mreturn\u001b[39;00m not_none(GroupMember\u001b[38;5;241m.\u001b[39mWORLD)\n",
      "\u001b[0;31mValueError\u001b[0m: Default process group has not been initialized, please make sure to call init_process_group."
     ]
    }
   ],
   "source": [
    "training_args = TrainingArguments(\n",
    "    output_dir=\"./results\",\n",
    "    evaluation_strategy=\"epoch\",\n",
    "    save_strategy=\"epoch\",\n",
    "    learning_rate=2e-5,\n",
    "    per_device_train_batch_size=16,\n",
    "    per_device_eval_batch_size=16,\n",
    "    num_train_epochs=5,\n",
    "    weight_decay=0.01,\n",
    "    load_best_model_at_end=True,\n",
    "    metric_for_best_model=\"accuracy\",\n",
    "    deepspeed=None,\n",
    "    fp16=False,\n",
    "    local_rank=-1, \n",
    "    **{\n",
    "        \"ddp_find_unused_parameters\": False  # Thêm dòng này cho notebook\n",
    "    }\n",
    ")\n",
    "\n",
    "\n",
    "\n",
    "def compute_metrics(pred):\n",
    "    from sklearn.metrics import accuracy_score, precision_recall_fscore_support\n",
    "    labels = pred.label_ids\n",
    "    preds = pred.predictions.argmax(-1)\n",
    "    precision, recall, f1, _ = precision_recall_fscore_support(labels, preds, average='macro')\n",
    "    acc = accuracy_score(labels, preds)\n",
    "    return {\"accuracy\": acc, \"f1\": f1, \"precision\": precision, \"recall\": recall}\n",
    "\n",
    "trainer = Trainer(\n",
    "    model=model,\n",
    "    args=training_args,\n",
    "    train_dataset=train_dataset,\n",
    "    eval_dataset=val_dataset,\n",
    "    compute_metrics=compute_metrics,\n",
    ")\n",
    "\n",
    "trainer.train()"
   ]
>>>>>>> bd3f4a2ae46f6f7b854267b85baf9ff5292a74ac
  }
 ],
 "metadata": {
  "kernelspec": {
<<<<<<< HEAD
   "display_name": "ml_venv",
=======
   "display_name": "nlp_research",
>>>>>>> bd3f4a2ae46f6f7b854267b85baf9ff5292a74ac
   "language": "python",
   "name": "python3"
  },
  "language_info": {
   "codemirror_mode": {
    "name": "ipython",
    "version": 3
   },
   "file_extension": ".py",
   "mimetype": "text/x-python",
   "name": "python",
   "nbconvert_exporter": "python",
   "pygments_lexer": "ipython3",
   "version": "3.10.16"
  }
 },
 "nbformat": 4,
 "nbformat_minor": 5
}

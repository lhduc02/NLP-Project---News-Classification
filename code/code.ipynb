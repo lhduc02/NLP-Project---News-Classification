{
 "cells": [
  {
   "cell_type": "code",
   "execution_count": 1,
   "id": "c805bb2a",
   "metadata": {},
   "outputs": [],
   "source": [
    "import pandas as pd\n",
    "from sklearn.preprocessing import LabelEncoder\n",
    "from sklearn.model_selection import train_test_split"
   ]
  },
  {
   "cell_type": "code",
   "execution_count": 2,
   "id": "36239424",
   "metadata": {},
   "outputs": [
    {
     "name": "stdout",
     "output_type": "stream",
     "text": [
      "../data/news_data.json\n",
      "                                                                                                  text  \\\n",
      "0  Thủ tướng: Khẩn trương trình Quốc hội các cơ chế đặc thù thống nhất cho tất cả các dự án đường s...   \n",
      "1  Chủ tịch Quốc hội Trần Thanh Mẫn: Đoàn kết, thống nhất để thành phố Cần Thơ sau sáp nhập phát tr...   \n",
      "\n",
      "    category  \n",
      "0  chinh-tri  \n",
      "1  chinh-tri  \n"
     ]
    }
   ],
   "source": [
    "# Set up\n",
    "pd.set_option('display.max_colwidth', 100)\n",
    "\n",
    "# script_dir = os.path.dirname(os.path.abspath(__file__))\n",
    "# data_path = os.path.join(script_dir, \"..\", \"data\", \"news_data.json\")\n",
    "data_path = r\"../data/news_data.json\"\n",
    "print(data_path)\n",
    "\n",
    "# Đọc và chuẩn hóa lại dữ liệu\n",
    "df = pd.read_json(data_path)\n",
    "\n",
    "df = df.drop_duplicates(subset=['title', 'short_description'])\n",
    "\n",
    "# Ghép các trường 'title', 'short_description' và 'content' thành một trường duy nhất 'text'\n",
    "df['text'] = df['title'] + \" \" + df['short_description'] + \" \" + df['content']\n",
    "\n",
    "# Kiểm tra dữ liệu sau khi ghép\n",
    "df_final = df[['text', 'category']]\n",
    "\n",
    "print(df_final.head(2))"
   ]
  },
  {
   "cell_type": "code",
   "execution_count": 3,
   "id": "aedada16",
   "metadata": {},
   "outputs": [
    {
     "name": "stderr",
     "output_type": "stream",
     "text": [
      "C:\\Users\\duclh\\AppData\\Local\\Temp\\ipykernel_18108\\1557473341.py:2: SettingWithCopyWarning: \n",
      "A value is trying to be set on a copy of a slice from a DataFrame.\n",
      "Try using .loc[row_indexer,col_indexer] = value instead\n",
      "\n",
      "See the caveats in the documentation: https://pandas.pydata.org/pandas-docs/stable/user_guide/indexing.html#returning-a-view-versus-a-copy\n",
      "  df_final['label'] = label_encoder.fit_transform(df_final['category'])\n"
     ]
    }
   ],
   "source": [
    "label_encoder = LabelEncoder()\n",
    "df_final['label'] = label_encoder.fit_transform(df_final['category'])"
   ]
  },
  {
   "cell_type": "code",
   "execution_count": 4,
   "id": "6aebf9dc",
   "metadata": {},
   "outputs": [
    {
     "data": {
      "application/vnd.microsoft.datawrangler.viewer.v0+json": {
       "columns": [
        {
         "name": "index",
         "rawType": "int64",
         "type": "integer"
        },
        {
         "name": "text",
         "rawType": "object",
         "type": "string"
        },
        {
         "name": "category",
         "rawType": "object",
         "type": "string"
        },
        {
         "name": "label",
         "rawType": "int64",
         "type": "integer"
        }
       ],
       "conversionMethod": "pd.DataFrame",
       "ref": "6be3b9d6-9d59-4490-ae73-2dbba18472fd",
       "rows": [
        [
         "0",
         "Thủ tướng: Khẩn trương trình Quốc hội các cơ chế đặc thù thống nhất cho tất cả các dự án đường sắt Thủ tướng giao các cơ quan khẩn trương hoàn thiện nghị quyết thống nhất các cơ chế đặc thù cho tất cả dự án đường sắt, trình Chính phủ trong tháng 4 để trình Quốc hội trước 5/5. Sáng 26/4, Thủ tướng Phạm Minh Chính, Trưởng Ban Chỉ đạo các công trình trọng điểm, dự án quan trọng quốc gia lĩnh vực đường sắt, chủ trì phiên họp thứ hai của Ban Chỉ đạo. Hội nghị được tổ chức trực tiếp tại Trụ sở Chính phủ, trực tuyến với 9 tỉnh, thành phố có các dự án đường sắt trên địa bàn. Cùng dự hội nghị có các Ủy viên Trung ương Đảng: Phó Thủ tướng Chính phủ Trần Hồng Hà, Phó Trưởng Ban thường trực Ban Chỉ đạo, Bộ trưởng Bộ Xây dựng Trần Hồng Minh, Bộ trưởng Bộ Khoa học và Công nghệ Nguyễn Mạnh Hùng, Bộ trưởng Bộ Giáo dục và Đào tạo Nguyễn Kim Sơn, Bộ trưởng Bộ Tư pháp Nguyễn Hải Ninh; lãnh đạo các bộ, ngành Trung ương và lãnh đạo các địa phương; lãnh đạo các tập đoàn kinh tế lớn. Phát triển ngành công nghiệp đường sắt, tổ hợp công nghiệp đường sắt Vừa qua, Ban Chấp hành Trung ương, Bộ Chính trị đã rất tích cực xem xét các đề nghị của Chính phủ liên quan phát triển ngành đường sắt, bao gồm: Nâng cấp, các tuyến đường sắt đã có; nối lại các tuyến đường sắt đã có trước đây đang gián đoạn; triển khai các dự án đường sắt lớn, như đường sắt tốc độ cao Bắc - Nam, tuyến đường sắt kết nối với Trung Quốc và các tuyến đường sắt đô thị tại Hà Nội, TP Hồ Chí Minh. Quốc hội đã ban hành các Nghị quyết số 172, số 187 và số 188 liên quan phát triển đường sắt, gồm: Nghị quyết chủ trương đầu tư Dự án đường sắt tốc độ cao trên trục Bắc - Nam; Nghị quyết về chủ trương đầu tư Dự án tuyến đường sắt Lào Cai - Hà Nội - Hải Phòng; Nghị quyết thí điểm một số cơ chế, chính sách đặc thù, đặc biệt để phát triển hệ thống mạng lưới đường sắt đô thị tại thành phố Hà Nội, TP Hồ Chí Minh. Tại phiên họp lần thứ nhất ngày 29/3/2025, Thủ tướng Chính phủ đã giao 24 nhiệm vụ cho các bộ, ngành và địa phương tập trung vào tháo gỡ các khó khăn, vướng mắc, đẩy nhanh thủ tục chuẩn bị đầu tư các dự án. Theo các báo cáo, ý kiến tại phiên họp, trong 19 nhiệm vụ theo tiến độ, có 12 nhiệm vụ chưa đến hạn, đã hoàn thành 6 nhiệm vụ, còn 1 nhiệm vụ chậm; cùng với 5 nhiệm vụ thường xuyên. Bộ Xây dựng đã trình Chính phủ ban hành Nghị quyết triển khai Nghị quyết số 172 của Quốc hội và được Chính phủ thông qua tại Nghị quyết số 106 ngày 23/4/2025; đã trình Chính phủ dự thảo Nghị quyết triển khai Nghị quyết số 187 của Quốc hội, Văn phòng Chính phủ đang lấy ý kiến của các thành viên Chính phủ. Bộ Nông nghiệp và Môi trường đang xây dựng dự thảo Nghị định sửa đổi, bổ sung một số điều của Nghị định số 156/2018/NĐ-CP trong đó bổ sung quy định việc tạm sử dụng rừng và hoàn trả rừng để thực hiện thi công công trình tạm phục vụ dự án. Bộ Khoa học và Công nghệ đang xây dựng Nghị định quy định phát triển khoa học, công nghệ đường sắt và quy định chi tiết về việc nghiên cứu, ứng dụng, nhận chuyển giao công nghệ. Bộ Tài chính đã hoàn thiện thủ tục, báo cáo Thủ tướng Chính phủ xem xét, phê duyệt đề xuất dự án Tuyến số 3, đoạn ga Hà Nội - Yên Sở (Hoàng Mai) theo đề nghị của UBND TP. Hà Nội; đã có ý kiến về việc dừng sử dụng vốn ODA, vốn vay ưu đãi nước ngoài đối với dự án đường sắt đô thị TP Hồ Chí Minh, Tuyến số 2 đoạn Bến Thành - Tham Lương và điều chỉnh nguồn vốn cho dự án. Bộ Tài chính đang chỉ đạo, tổ chức lập, hoàn thiện Đề án tái cơ cấu Tổng công ty Đường sắt. Bộ cũng đang thực hiện nhiệm vụ trình Thủ tướng thành lập Hội đồng thẩm định Nhà nước trong tháng 4/2025 để tiến hành thẩm định cùng với quá trình lập Báo cáo nghiên cứu khả thi Dự án Lào Cai - Hà Nội - Hải Phòng. Bộ Giáo dục và Đào tạo đang rà soát quy hoạch các đại học, cao đẳng bảo đảm đáp ứng đủ nhu cầu đào tạo trong nước phục vụ đầu tư, quản lý, khai thác, vận hành và phát triển công nghiệp đường sắt. Tổng công ty Đường sắt đang lập hồ sơ dự án Tổ hợp công nghiệp đường sắt; có văn bản gửi Bộ Xây dựng đề xuất cơ chế đặc thù, đặc biệt đẩy nhanh tiến độ dự án; UBND TP. Hà Nội nghiên cứu xem xét quyết định theo thẩm quyền hướng dẫn, hoàn thiện các thủ tục giao đất cho Tổng công ty để xây dựng tổ hợp này. Cũng tại cuộc họp, các đại biểu đã báo cáo về tình hình thực hiện các dự án: 3 tuyến đường sắt Lào Cai - Hà Nội - Hải Phòng, Hà Nội - Lạng Sơn và Hải Phòng - Móng Cái; tuyến đường sắt tốc độ cao trên trục Bắc – Nam; các dự án đường sắt đô thị Hà Nội và TP Hồ Chí Minh. Thủ tướng giao các cơ quan khẩn trương hoàn thiện Nghị quyết thống nhất các cơ chế đặc thù cho tất cả dự án đường sắt, trình Chính phủ trong tháng 4 để trình Quốc hội trước ngày 5/5 - Ảnh: VGP/Nhật Bắc Không thay đổi thời hạn khởi công 2 dự án đường sắt lớn Phát biểu kết luận, Thủ tướng Phạm Minh Chính ghi nhận kết quả đạt được của các bộ, ngành, địa phương trong việc tổ chức triển khai các nhiệm vụ được giao; biểu dương các cơ quan, địa phương, trong đó có Bộ Xây dựng, Hải Phòng, Hà Nội, TP Hồ Chí Minh chủ động, tích cực triển khai công việc. Đánh giá cao các ý kiến, Thủ tướng giao Văn phòng Chính phủ, Bộ Xây dựng và các cơ quan tiếp thu các ý kiến để khẩn trương trình ban hành thông báo kết luận của phiên họp. Với khí thế của những ngày tháng 4 lịch sử cách đây 50 năm, giải phóng miền Nam, thống nhất đất nước, Thủ tướng Chính phủ yêu cầu các thành viên Ban Chỉ đạo, các bộ, ngành, địa phương, đơn vị cần \"thần tốc, thần tốc hơn nữa; tạo bạo, táo bạo hơn nữa\", phát huy tinh thần trách nhiệm, phân công \"rõ người, rõ việc, rõ thời gian, rõ kết quả, rõ trách nhiệm, rõ thẩm quyền\", \"nhìn xa, trông rộng, nghĩ sâu, làm lớn\", triển khai công việc nhanh, quyết liệt, quyết đoán, tạo động lực, truyền cảm hứng làm việc. Thủ tướng yêu cầu các bộ, ngành, cơ quan theo chức năng, nhiệm vụ, quyền hạn chủ động, tích cực, bám sát chủ trương, đường lối của Đảng, chính sách, pháp luật của Nhà nước, các nghị quyết, kết luận, chỉ đạo của Trung ương, Bộ Chính trị, Quốc hội, Chính phủ, Thủ tướng Chính phủ để tổ chức thực hiện. Về nhiệm vụ tổng thể, Thủ tướng yêu cầu, tiếp tục tập trung triển khai đồng bộ các dự án đường sắt tốc độ cao Bắc - Nam, tuyến đường sắt Lào Cai – Hà Nội – Hải Phòng, các tuyến đường sắt tại Hà Nội và TP Hồ Chí Minh. Tinh thần là vừa phải triển khai công việc trước mắt, vừa phải triển khai các công việc lâu dài, xây dựng, hoàn thiện thể chế, cơ chế, chính sách, đào tạo nhân lực… Thủ tướng nêu rõ mục tiêu không thay đổi là phải khởi công dự án Lào Cai - Hà Nội - Hải Phòng trong năm 2025 và khởi công tuyến đường sắt tốc độ cao Bắc - Nam trong năm 2026. Về vốn, Thủ tướng chỉ đạo huy động đa dạng các nguồn vốn, gồm vốn tự có của Trung ương, địa phương, vốn vay, phát hành trái phiếu của Chính phủ và doanh nghiệp, hợp tác công tư… Về pháp lý, Thủ tướng giao Bộ Xây dựng, Bộ Tư pháp khẩn trương hoàn thiện Nghị quyết thống nhất các cơ chế đặc thù cho tất cả dự án đường sắt, trình Chính phủ trong tháng 4 và trình Quốc hội trước ngày 5/5. Với 4 nghị định của Chính phủ, Bộ Xây dựng chủ trì xây dựng Nghị định về thiết kế tổng thể kỹ thuật và các cơ chế đặc thù, đặc biệt; Bộ Xây dựng chủ trì xây dựng Nghị định về tiêu chí lựa chọn doanh nghiệp đặt hàng cung cấp dịch vụ, hàng hóa; Bộ Khoa học và Công nghệ chủ trì xây dựng Nghị định về phát triển khoa học công nghệ đường sắt; Bộ Nông nghiệp và Môi trường chủ trì xây dựng Nghị định về tạm sử dụng, hoàn trả rừng. Các nghị định hoàn thành trong tháng 5/2025. Về phát triển công nghiệp đường sắt, phục vụ phát triển công nghiệp hóa, hiện đại hóa đất nước, Thủ tướng nêu rõ, phải chuyển giao và làm chủ công nghệ hiện đại; quản trị khoa học, thông minh; đào tạo nhân lực chất lượng cao. Bộ Xây dựng và Bộ Giáo dục và Đào tạo có đề án, kế hoạch đào tạo ngắn hạn, trung hạn, dài hạn ở các trình độ công nhân kỹ thuật, kỹ sư, tiến sĩ. Thủ tướng yêu cầu phải huy động các tập đoàn, doanh nghiệp Nhà nước và tư nhân có năng lực công nghệ và sản xuất tham gia các dự án và phát triển công nghiệp đường sắt - Ảnh: VGP/Nhật Bắc Bộ Xây dựng chủ trì xây dựng Quyết định của Thủ tướng Chính phủ về danh mục dịch vụ hàng hóa công nghiệp đường sắt, hoàn thành chậm nhất trong nửa đầu tháng 6/2025. Bộ Công Thương chủ trì xây dựng Đề án về phát triển công nghiệp đường sắt; Bộ Giáo dục và Đào tạo chủ trì xây dựng Đề án về phát triển nguồn nhân lực. Thời gian hoàn thành của 2 đề án trong quý 2 năm 2025. Cùng với đó, phải huy động các tập đoàn, doanh nghiệp Nhà nước và tư nhân có năng lực công nghệ và sản xuất tham gia các dự án và phát triển công nghiệp đường sắt. Trong đó, Bộ Xây dựng giao các tập đoàn như VNPT, Viettel nghiên cứu tiếp nhận, phát triển, làm chủ công nghệ hệ thống thông tin, tín hiệu và hệ thống điều khiển của các dự án đường sắt. Với dự án đường sắt tốc độ cao trên trục Bắc - Nam, tại Nghị quyết số 106/NQ-CP, Chính phủ đã chấp thuận kế hoạch tổng thể triển khai, bảo đảm khởi công chậm nhất trong tháng 12 năm 2026, Thủ tướng đề nghị các bộ ngành, địa phương căn cứ các mốc tiến độ tổng thể và nhiệm vụ được giao, xây dựng kế hoạch của ngành, lĩnh vực, địa phương. Với dự án đường sắt Lào Cai - Hà Nội - Hải Phòng, các cơ quan tiếp tục trao đổi, làm việc, thúc đẩy phía Trung Quốc để sớm hoàn thành công tác đàm phán hiệp định vay, đáp ứng tiến độ triển khai Dự án. Về giải phóng mặt bằng cho các dự án, Thủ tướng nêu rõ, luật, cơ chế, chính sách đã có, các địa phương phải chủ động giải phóng mặt bằng, huy động cả hệ thống chính trị và các lực lượng vào cuộc; đặc biệt cần hoàn thành giải phóng mặt bằng cho dự án Lào Cai - Hà Nội - Hải Phòng trong tháng 9 năm nay. Với các dự án đường sắt đô thị tại Hà Nội, TP Hồ Chí Minh, Thủ tướng nhấn mạnh tinh thần phân cấp, yêu cầu các địa phương vận dụng các cơ chế, chính sách đặc thù đã có trong tổ chức thực hiện, Bộ Xây dựng, Bộ Nông nghiệp và Môi trường hướng dẫn thêm nếu có vướng mắc. Thủ tướng chỉ đạo UBND TP Hà Nội và TP Hồ Chí Minh khẩn trương xây dựng kế hoạch chi tiết, tiến độ công việc triển khai các cơ chế chính sách của Nghị quyết số 188/2025/QH15 áp dụng cho hai Thành phố và ban hành kế hoạch riêng của mỗi thành phố thuộc thẩm quyền của địa phương.",
         "chinh-tri",
         "0"
        ],
        [
         "1",
         "Chủ tịch Quốc hội Trần Thanh Mẫn: Đoàn kết, thống nhất để thành phố Cần Thơ sau sáp nhập phát triển mạnh mẽ Chủ tịch Quốc hội Trần Thanh Mẫn chủ trì cuộc gặp mặt các Mẹ Việt Nam Anh hùng, các đồng chí nguyên lãnh đạo Trung ương, Quân khu 9 và lãnh đạo thành phố Cần Thơ, tỉnh Hậu Giang. Nhân kỷ niệm 50 năm Ngày Giải phóng miền Nam, thống nhất đất nước (30/4/1975 - 30/4/2025), sáng 26/4, tại thành phố Cần Thơ, Chủ tịch Quốc hội Trần Thanh Mẫn chủ trì cuộc gặp mặt các Mẹ Việt Nam Anh hùng, các đồng chí nguyên lãnh đạo Trung ương, Quân khu 9 và lãnh đạo thành phố Cần Thơ, tỉnh Hậu Giang qua các thời kỳ. Chủ tịch Quốc hội Trần Thanh Mẫn gửi lời chúc sức khỏe, lời chúc mừng nồng nhiệt nhất tới các Mẹ Việt Nam Anh hùng, các đồng chí nguyên lãnh đạo Trung ương, Quân khu 9 và lãnh đạo thành phố Cần Thơ, tỉnh Hậu Giang qua các thời kỳ; đồng thời chuyển lời thăm hỏi thân thiết, lời chúc sức khỏe của Tổng Bí thư Tô Lâm, Chủ tịch nước Lương Cường, Thủ tướng Chính phủ Phạm Minh Chính tới các đại biểu. Thông tin về những thành tựu quan trọng của đất nước sau gần 40 năm đổi mới, Chủ tịch Quốc hội nêu rõ, quy mô nền kinh tế đạt khoảng 476 tỷ USD, thu nhập bình quân đầu người đạt gần 4.700 USD. Thu ngân sách đạt khoảng 2 triệu tỷ đồng. Hiện nay, Việt Nam có quan hệ ngoại giao với gần 200 quốc gia; trở thành một trong 40 nền kinh tế lớn nhất thế giới, xếp thứ 32 trong top 100 giá trị thương hiệu quốc gia mạnh trên thế giới. Phấn đấu đến năm 2030, kỷ niệm 100 năm thành lập Đảng, Việt Nam là nước đang phát triển, thu nhập trung bình cao; đến năm 2045, kỷ niệm 100 năm thành lập nước, Việt Nam trở thành nước phát triển, thu nhập cao. Năm 2025, phấn đấu đạt mục tiêu tăng trưởng kinh tế 8% trở lên, tạo đà cho giai đoạn 2026 - 2030 tăng trưởng ở mức 2 con số. Chủ tịch Quốc hội Trần Thanh Mẫn với đại biểu. Ảnh: Doãn Tấn - TTXVN Về cuộc cách mạng tinh gọn tổ chức bộ máy, Chủ tịch Quốc hội cho biết, số lượng đơn vị hành chính cấp tỉnh sau sáp nhập là 34 tỉnh, thành phố (28 tỉnh và 6 thành phố trực thuộc Trung ương). Theo Nghị quyết của Trung ương, thành phố Cần Thơ sáp nhập với tỉnh Hậu Giang và tỉnh Sóc Trăng, với diện tích khoảng 6.400 km2, dân số hơn 4 triệu người, mở rộng không gian phát triển trong thời gian tới. Tại Kỳ họp thứ 9 sắp tới, nếu Nghị quyết của Quốc hội sửa đổi, bổ sung một số điều của Hiến pháp được thông qua, sau ngày 30/6/2025 sẽ kết thúc hoạt động của đơn vị hành chính cấp huyện. Từ nay đến hết tháng 5/2025, Ủy ban Thường vụ Quốc hội sẽ họp liên tục để xem xét việc sáp nhập đơn vị hành chính cấp xã, giảm 60 - 70% đơn vị hành chính cấp xã (trên tổng số 10.035 xã hiện nay). Nhấn mạnh đây là cuộc cách mạng lớn chưa từng có để tinh gọn tổ chức bộ máy, bảo đảm hoạt động hiệu năng, hiệu lực, hiệu quả, Chủ tịch Quốc hội mong muốn các Mẹ Việt Nam Anh hùng, các đồng chí nguyên lãnh đạo Trung ương, Quân khu 9 và lãnh đạo thành phố Cần Thơ, tỉnh Hậu Giang qua các thời kỳ tiếp tục ủng hộ chủ trương này để thực hiện các mục tiêu phát triển đất nước. Theo Chủ tịch Quốc hội, trong năm 2025, cả nước chuẩn bị Đại hội đảng bộ các cấp, tiến tới Đại hội đại biểu toàn quốc lần thứ XIV của Đảng, dự kiến diễn ra vào tháng 1/2026. Đồng thời chuẩn bị bầu cử đại biểu Quốc hội khóa XVI, bầu cử đại biểu Hội đồng nhân dân các cấp nhiệm kỳ 2026 - 2031, dự kiến diễn ra vào ngày 15/3/2026. Vừa qua, Thủ tướng Chính phủ Phạm Minh Chính đã làm việc với thành phố Cần Thơ, bàn các nhiệm vụ, giải pháp phát triển thành phố, trong đó đặc biệt nhấn mạnh tinh thần đoàn kết, thống nhất, chung sức chung lòng để Cần Thơ sau sáp nhập phát triển mạnh mẽ. Chủ tịch Quốc hội Trần Thanh Mẫn với đại biểu. Ảnh: Doãn Tấn - TTXVN Nhắc lại tinh thần trên, Chủ tịch Quốc hội khẳng định, Trung ương luôn dành sự quan tâm, tạo điều kiện thuận lợi để Đồng bằng sông Cửu Long nói chung và thành phố Cần Thơ nói riêng ngày càng phát triển; tin tưởng, Cần Thơ sẽ thực hiện thắng lợi nhiệm vụ năm 2025 và các nhiệm vụ trong thời gian tới. Tiếp thu ý kiến chỉ đạo của Chủ tịch Quốc hội Trần Thanh Mẫn, Bí thư Thành ủy Cần Thơ Đỗ Thanh Bình khẳng định, Đảng bộ, chính quyền và nhân dân thành phố Cần Thơ sẽ tiếp tục phát huy truyền thống cách mạng của quê hương, đoàn kết, thống nhất, đổi mới, quyết tâm, quyết liệt để hoàn thành các nhiệm vụ chính trị; khẩn trương triển khai hiệu quả việc sắp xếp tổ chức bộ máy, đơn vị hành chính theo chủ trương của Trung ương; tập trung chuẩn bị đại hội Đảng bộ các cấp, tiến tới Đại hội đại biểu toàn quốc lần thứ XIV của Đảng, quyết tâm xây dựng và phát triển thành phố Cần Thơ trở thành trung tâm của vùng. Trước đó, sáng 26/4, Chủ tịch Quốc hội Trần Thanh Mẫn đã thăm, tặng quà Anh hùng Lực lượng vũ trang nhân dân, cựu chiến binh biệt động thành phố Cần Thơ Nguyễn Thị Vân ở phường An Bình, quận Ninh Kiều và nguyên Phó Tham mưu trưởng Quân khu 9, cựu chiến binh biệt động thành phố Cần Thơ Ung Thị Bé ở phường Tân An, quận Ninh Kiều.",
         "chinh-tri",
         "0"
        ]
       ],
       "shape": {
        "columns": 3,
        "rows": 2
       }
      },
      "text/html": [
       "<div>\n",
       "<style scoped>\n",
       "    .dataframe tbody tr th:only-of-type {\n",
       "        vertical-align: middle;\n",
       "    }\n",
       "\n",
       "    .dataframe tbody tr th {\n",
       "        vertical-align: top;\n",
       "    }\n",
       "\n",
       "    .dataframe thead th {\n",
       "        text-align: right;\n",
       "    }\n",
       "</style>\n",
       "<table border=\"1\" class=\"dataframe\">\n",
       "  <thead>\n",
       "    <tr style=\"text-align: right;\">\n",
       "      <th></th>\n",
       "      <th>text</th>\n",
       "      <th>category</th>\n",
       "      <th>label</th>\n",
       "    </tr>\n",
       "  </thead>\n",
       "  <tbody>\n",
       "    <tr>\n",
       "      <th>0</th>\n",
       "      <td>Thủ tướng: Khẩn trương trình Quốc hội các cơ chế đặc thù thống nhất cho tất cả các dự án đường s...</td>\n",
       "      <td>chinh-tri</td>\n",
       "      <td>0</td>\n",
       "    </tr>\n",
       "    <tr>\n",
       "      <th>1</th>\n",
       "      <td>Chủ tịch Quốc hội Trần Thanh Mẫn: Đoàn kết, thống nhất để thành phố Cần Thơ sau sáp nhập phát tr...</td>\n",
       "      <td>chinh-tri</td>\n",
       "      <td>0</td>\n",
       "    </tr>\n",
       "  </tbody>\n",
       "</table>\n",
       "</div>"
      ],
      "text/plain": [
       "                                                                                                  text  \\\n",
       "0  Thủ tướng: Khẩn trương trình Quốc hội các cơ chế đặc thù thống nhất cho tất cả các dự án đường s...   \n",
       "1  Chủ tịch Quốc hội Trần Thanh Mẫn: Đoàn kết, thống nhất để thành phố Cần Thơ sau sáp nhập phát tr...   \n",
       "\n",
       "    category  label  \n",
       "0  chinh-tri      0  \n",
       "1  chinh-tri      0  "
      ]
     },
     "execution_count": 4,
     "metadata": {},
     "output_type": "execute_result"
    }
   ],
   "source": [
    "df_final.head(2)"
   ]
  },
  {
   "cell_type": "code",
   "execution_count": 5,
   "id": "9c3d8b87",
   "metadata": {},
   "outputs": [
    {
     "data": {
      "application/vnd.microsoft.datawrangler.viewer.v0+json": {
       "columns": [
        {
         "name": "index",
         "rawType": "int64",
         "type": "integer"
        },
        {
         "name": "text",
         "rawType": "object",
         "type": "string"
        },
        {
         "name": "category",
         "rawType": "object",
         "type": "string"
        },
        {
         "name": "label",
         "rawType": "int64",
         "type": "integer"
        }
       ],
       "conversionMethod": "pd.DataFrame",
       "ref": "0572cef9-99d3-4002-8290-bf6c6c978f4c",
       "rows": [
        [
         "1086",
         "\"Siêu thị thế giới\" Nghĩa Ô trước cơn bão thuế quan Nghĩa Ô - nơi được gọi là \"siêu thị thế giới\", bán \"đủ mọi thứ trên đời\" cũng đang chịu những tác động nhất định của cơn bão thuế quan. Tuyết rơi bên ngoài nhưng bên trong nhà nhạc Giáng sinh vẫn vang lên, không khí rực rỡ với cây thông Noel được trang trí bởi đèn dây, những đôi tất và ngôi sao lấp lánh. Đây là cảnh tượng được hầu hết người Mỹ yêu thích mỗi khi Giáng sinh đến. Tuy nhiên, ít ai biết được chính xác những đồ trang trí ấy đến từ đâu. Theo CNN, hầu hết đồ trang trí trên cây thông Noel tại các gia đình Mỹ đều có xuất xứ từ một thành phố nhỏ ở tỉnh Chiết Giang, Trung Quốc - Nghĩa Ô. Có biệt danh là \"Thị trấn Giáng sinh\", Nghĩa Ô cung cấp gần 90% các mặt hàng trang trí cho dịp nghỉ lễ quan trọng nhất năm tại Mỹ. Rộng bằng 750 lần bóng đá Theo CNN, chợ Nghĩa Ô là khu phức hợp có diện tích gần 1.000 mẫu Anh, tương đương với khoảng 750 sân bóng đá. Bên trong, người mua đi lại trên những hành lang hẹp tràn ngập hàng hóa, từ búp bê ông già Noel biết chơi đàn piano đến cây thông Noel nhân tạo, cũng như vô số mặt hàng khác được dùng trong các gia đình Mỹ, như mũ \"Make America Great Again\", súng massage hay ghế cắm trại. Toàn cảnh chợ Nghĩa Ô - nơi được coi là \"siêu thị của thế giới\" (Ảnh: CNN) Những ngày gần đây, có một luồng lo lắng tiềm ẩn ở Nghĩa Ô khi mức thuế đối ứng áp cho hàng hoá Trung Quốc nhập khẩu vào Mỹ đã lên tới 145%. Đây là mức thuế cao nhất mà Mỹ áp cho hàng hóa của một quốc gia trong gần 1 thế kỷ. Với nhiều thương nhân ở Nghĩa Ô, mức thuế này khiến họ mất khách hàng, lợi nhuận bị cắt giảm và buộc họ phải chuyển hướng sang các thị trường khác. Trả lời phỏng vấn của kênh CNN, nhiều người đã bày tỏ sự lo ngại và hoang mang trước những diến biến mới. Hầu hết thương nhân đều mong muốn có một \"giải pháp tốt\" trước khi mọi thứ bị gián đoạn nghiêm trọng. \"Một số khách hàng lâu năm đã ngừng giao dịch và tất cả chúng tôi đều rất buồn\", cô Ran Hongyan, 43 tuổi, người đã bán đồ trang trí Giáng sinh trong 15 năm, cho biết. Sau khi mức thuế mới được áp dụng, cô đã cố gắng giảm giá cho khách hàng Mỹ để cứu vãn nhưng không hiệu quả. Tám trong số mười người đã hủy hợp đồng trong năm nay, gây ra khoản lỗ hơn 135.000 USD. Cô Ran cho biết lượng hàng xuất khẩu từ Hoa Kỳ chỉ chiếm một phần trong tổng số khách hàng của mình, nhưng vấn đề ở đây không chỉ là những con số. Nhiều người là đối tác lâu năm. Ran đã gặp một khách hàng Mỹ ở hội chợ thương mại Trung Quốc cách đây nhiều năm và họ đã làm việc cùng nhau trong gần một thập kỷ. Khách này thậm chí còn đến thăm nhà máy sản xuất của cô tại Trung Quốc \"Vì vấn đề thuế quan, anh ấy nói rằng không có lựa chọn nào khác ngoài việc hủy bỏ đơn hàng trong năm nay và xem điều gì sẽ xảy ra sau đó\", Ran nói với CNN. \"Chúng tôi đã hợp tác với nhau trong một thời gian dài\", cô buồn bã nói thêm. Cô Ran Hongyan, 43 tuổi, người đã bán đồ trang trí Giáng sinh ở chợ Nghĩa Ô 15 năm (Ảnh: CNN) Người tiêu dùng các nước tiết kiệm, các quốc gia chi tiêu ít đi. Điều này cũng không tốt cho \"thủ phủ hàng hoá\" Nghĩa Ô. CNN nhận định, theo tổng thống Donald Trump, việc áp thuế đối ứng một phần nhằm khôi phục sản xuất ở Mỹ, nơi mà theo ông Trump là \"đã bị phá hủy bởi các thỏa thuận thương mại tồi tệ\". \"Nhưng thật khó để thấy một tương lai mà các sản phẩm được bán ở Nghĩa Ô có thể được sản xuất tại Mỹ. Trừ khi người tiêu dùng sẵn sàng trả nhiều tiền hơn cho một thứ phổ biến và hiện đang rẻ như đồ trang trí Giáng sinh bằng nhựa\", CNN viết. Campuchia là quốc gia xuất khẩu đồ trang trí Giáng sinh lớn thứ hai sang Hoa Kỳ nhưng quốc gia này cũng đang bị áp thuế 49%. Hiện mức thuế này đang tạm dừng 90 ngày. Thủ phủ hàng hóa của thế giới Nghĩa Ô là thành phố tương đối nhỏ theo tiêu chuẩn ở Trung Quốc. Dân số ở đây chưa đến hai triệu người nhưng thành phố lại có dấu ấn to lớn trong thương mại toàn cầu. Năm ngoái, Nghĩa Ô đã xuất  81 tỷ USD hàng hóa ra nước ngoài, trong đó khoảng 11,5 tỷ  USD được chuyển đến Hoa Kỳ, theo dữ liệu hải quan thành phố. Dấu ấn này được thể hiện rõ ngay khi du khách đặt chân đến thành phố. Hàng loạt những biển hiệu nổi bật ở sân bay với nội dung: \"Kinh doanh toàn cầu tại Nghĩa Ô!\". Sau khi mức thuế đối ứng được áp lên hàng hóa Trung Quốc, không khí ở Nghĩa Ô vẫn rất nhộn nhịp. Hoa Kỳ hiện là quốc gia duy nhất áp dụng thuế đối ứng với nền kinh tế lớn thứ hai thế giới. Khu phức hợp nhiều tầng, nhiều khối nhà này tự hào có hàng trăm nghìn loại hàng hóa khác nhau. Uớc tính có khoảng 70.000 gian hàng tại nơi được coi là \"siêu thị của thế giới này\". Tuy nhiên, cơn bão thuế quan cũng phần nào ảnh hưởng đến Nghĩa Ô. Mũ thuê dòng chữ \"Make America great again\" được bán ở Nghĩa Ô (Ảnh: CNN) Theo ghi nhận của CNN, những ngày qua, người mua ở nhiều quốc gia khác nhau vẫn đến Nghĩa Ô nhưng vắng bóng các thương nhân Mỹ. Nhiều người bán hàng tỏ ra lo lắng với tình hình mới. Cô Li Xinyao kinh doanh hoa giả ở Nghĩa Ô kể từ năm khu chợ này được thành lập là 1993. Mặc dù hiện khách hàng của cô không có ai từ Mỹ nhưng doanh thu của cửa hàng vẫn bị ảnh hưởng sau những biến động thuế quan trên toàn thế giới. \"Khi có căng thẳng thương mại giữa Trung Quốc và Mỹ, tất cả mọi người sẽ lo lắng về điều đó. Khách hàng của chúng tôi có thể sẽ giữ lại (đơn đặt hàng)\", cô Li chia sẻ. Nền kinh tế toàn cầu đầy biến động đang gây tổn hại đến doanh số bán hàng của Li vì đồ trang trí, giống như hoa nhựa, có thể là mặt hàng đầu tiên bị cắt giảm đối với những người cần thắt chặt chi tiêu. \"Nếu chúng ta không thể có một cuộc sống hạnh phúc, ai sẽ quan tâm đến đồ trang trí?\", Li nói. Với những thương nhân có mối làm ăn chặt chẽ với các đối tác Mỹ, giờ đây họ sẽ cần tìm những cơ hội khác. Sự chuyển hướng này đã diễn ra trong nhiều năm qua. Theo CNN, kể từ năm 2018, \"Bắc Kinh đã đa dạng hóa chuỗi cung ứng, mở rộng quan hệ thương mại với phần còn lại của thế giới, qua đó giảm thị phần xuất khẩu vào Mỹ\". Hàng hoá xuất khẩu của Trung Quốc ở Thượng Hải (Ảnh: AP) Theo số liệu chính thức, xuất khẩu của Trung Quốc sang Hoa Kỳ chiếm 19,2% tổng số lô hàng xuất khẩu ra nước ngoài vào năm 2018 nhưng đã  hiện giảm xuống còn 14,7% vào năm 2024. Điều này có nghĩa là Trung Quốc hiện phụ thuộc ít hơn vào các doanh nghiệp Hoa Kỳ so với trước đây. Đây cũng là cách tiếp cận mà những người bán hàng ở Nghĩa Ô đang áp dụng. \"Tôi hiện đang chuyển tất cả hàng hóa bị dừng lại ở Mỹ sang tuyến EU\", Nie Ziqin, 39 tuổi, chủ cửa hàng bán đồ trang trí Halloween tại Nghĩa Ô cho hay. Mặc dù doanh số bán hàng bị giảm \"đáng kể\" vì mức thuế quan cao, Nie vẫn bày tỏ sự lạc quan. \"Tôi vẫn còn thị trường trong nước và thị trường EU. Tôi cũng bán hàng qua thương mại điện tử xuyên biên giới. Năm ngoái, chúng tôi đã bắt đầu thiết kế các sản phẩm có thể bán cho thị trường nội địa\", Nie nói thêm. Tuần trước, Trung Quốc đã tăng thuế đối với hàng hóa của Hoa Kỳ lên 125%. Bắc Kinh cũng khẳng định nước này \"không sợ hãi\" với những đòn thuế quan mới. \"Chính phủ của chúng tôi đang làm tốt những việc này\", cô Li, chủ cửa hàng bán hoa giả cho hay. Tuy nhiên, dù lạc quan nhưng các thương nhân ở đây vẫn lo lắng và chuẩn bị cho những tác động mạnh mà biến động của kinh tế thế giới có thể mang lại.",
         "kinh-te",
         "1"
        ],
        [
         "1087",
         "Các hãng xe điện Trung Quốc tăng cường hiện diện tại Anh Triển lãm xe điện Vương quốc Anh chứng kiến sự nổi bật của các thương hiệu xe điện Trung Quốc, khi nước này tiếp tục xem châu Âu là thị trường quan trọng hàng đầu. Triển lãm xe điện lớn nhất của Vương quốc Anh, Everything Electric, đã khai mạc tại thủ đô London, thu hút sự tham gia của nhiều tên tuổi lớn trong ngành công nghiệp xe điện. Triển lãm năm nay chứng kiến sự hiện diện nổi bật của các thương hiệu xe điện Trung Quốc, khi nước này tiếp tục xem châu Âu là thị trường quan trọng hàng đầu trong bối cảnh căng thẳng thuế quan với Mỹ chưa có dấu hiệu lắng dịu. Trong nhiều năm, Tesla luôn chiếm giữ vị trí trung tâm của cuộc triển lãm xe điện tại London, Anh, tuy nhiên năm nay hãng xe điện lớn nhất nước Mỹ đã phải nhường vị trí này cho các hãng xe Trung Quốc. Các hãng xe Trung Quốc đã mang đến hàng chục mẫu xe mới, thu hút người xem. Thị trường Anh đang nổi lên là điểm đến hấp dẫn với ngành công nghiệp xe điện, khi xu hướng tiêu dùng thay đổi nhanh chóng. Ông Dan Caesar - Giám đốc điều hành Công ty Electric Vehicles UK cho biết: \"Ngành công nghiệp ô tô đang thay đổi chóng mặt. Xe điện là xu hướng mới. Ngày nay, cứ một trong bốn chiếc xe mới được bán ra ở Anh là xe điện, ngoài ra thị trường xe điện đã qua sử dụng cũng phát triển rất nhanh. Nhiều nhà sản xuất đến từ Trung Quốc và Hàn Quốc, họ chiếm giữ vị trí trung tâm của triển lãm, cung cấp nhiều lựa chọn và giúp giảm giá thành. Thực tế là giá xe điện bây giờ còn rẻ hơn cả xe xăng\". Đã có hơn 380.000 xe ô tô điện được bán ra tại Anh vào năm 2024, tăng 21,4% so với năm 2023. Dự báo con số này sẽ tăng lên mức 440.000 xe trong năm 2025, đánh dấu thêm một năm tăng trưởng 2 con số nữa. Tốc độ phát triển nhanh chóng đã biến Anh trở thành một trong những thị trường trọng tâm của các hãng xe Trung Quốc. Các hãng xe lớn như BYD đã tập trung đẩy mạnh quảng bá đến khách hàng Anh. Ông Mark Blundell - Trưởng bộ phận Marketing, Công ty BYD Europe cho biết: \"Chúng tôi mang đến triển lãm năm nay mẫu xe BYD Sealion 7, sở hữu động cơ mạnh nhất trong các dòng xe điện hiện nay với tốc độ 23.000 vòng mỗi phút\". Chính quyền Tổng thống Mỹ Donald Trump hiện đang đánh thuế 25% lên toàn bộ ô tô nhập khẩu. Theo các nhà phân tích, điều này sẽ giúp các hãng xe Trung Quốc tăng sức cạnh tranh trước các đối thủ quốc tế. Ông Dan Caesar - Giám đốc điều hành Công ty Electric Vehicles UK cho hay: \"Các hãng xe Đức, Nhật Bản và Hàn Quốc chịu ảnh hưởng nặng nề nhất từ chính sách thuế của Mỹ. Các hãng xe của Anh cũng chịu ảnh hưởng. Điều hài hước là nước chịu ảnh hưởng ít nhất lại là Trung Quốc vì đằng nào họ cũng không xuất khẩu được sang Mỹ. Thế nên, chính sách thuế quan của tổng thống Trump sẽ làm suy yếu các đối thủ cạnh tranh của Trung Quốc trong ngành công nghiệp ô tô\". Các hãng xe Trung Quốc đang đẩy mạnh đa dạng hóa thị trường và tìm kiếm các thị trưởng triển vọng mới, đặc biệt tại châu Âu, nơi các hãng xe Trung Quốc đã có sẵn mạng lưới phân phối và cả các nhà máy sản xuất nhằm tránh nguy cơ bị áp thuế nhập khẩu.",
         "kinh-te",
         "1"
        ]
       ],
       "shape": {
        "columns": 3,
        "rows": 2
       }
      },
      "text/html": [
       "<div>\n",
       "<style scoped>\n",
       "    .dataframe tbody tr th:only-of-type {\n",
       "        vertical-align: middle;\n",
       "    }\n",
       "\n",
       "    .dataframe tbody tr th {\n",
       "        vertical-align: top;\n",
       "    }\n",
       "\n",
       "    .dataframe thead th {\n",
       "        text-align: right;\n",
       "    }\n",
       "</style>\n",
       "<table border=\"1\" class=\"dataframe\">\n",
       "  <thead>\n",
       "    <tr style=\"text-align: right;\">\n",
       "      <th></th>\n",
       "      <th>text</th>\n",
       "      <th>category</th>\n",
       "      <th>label</th>\n",
       "    </tr>\n",
       "  </thead>\n",
       "  <tbody>\n",
       "    <tr>\n",
       "      <th>1086</th>\n",
       "      <td>\"Siêu thị thế giới\" Nghĩa Ô trước cơn bão thuế quan Nghĩa Ô - nơi được gọi là \"siêu thị thế giới...</td>\n",
       "      <td>kinh-te</td>\n",
       "      <td>1</td>\n",
       "    </tr>\n",
       "    <tr>\n",
       "      <th>1087</th>\n",
       "      <td>Các hãng xe điện Trung Quốc tăng cường hiện diện tại Anh Triển lãm xe điện Vương quốc Anh chứng ...</td>\n",
       "      <td>kinh-te</td>\n",
       "      <td>1</td>\n",
       "    </tr>\n",
       "  </tbody>\n",
       "</table>\n",
       "</div>"
      ],
      "text/plain": [
       "                                                                                                     text  \\\n",
       "1086  \"Siêu thị thế giới\" Nghĩa Ô trước cơn bão thuế quan Nghĩa Ô - nơi được gọi là \"siêu thị thế giới...   \n",
       "1087  Các hãng xe điện Trung Quốc tăng cường hiện diện tại Anh Triển lãm xe điện Vương quốc Anh chứng ...   \n",
       "\n",
       "     category  label  \n",
       "1086  kinh-te      1  \n",
       "1087  kinh-te      1  "
      ]
     },
     "execution_count": 5,
     "metadata": {},
     "output_type": "execute_result"
    }
   ],
   "source": [
    "df_final.tail(2)"
   ]
  },
  {
   "cell_type": "code",
   "execution_count": null,
   "id": "cc6c9f31",
   "metadata": {},
   "outputs": [],
   "source": []
  }
 ],
 "metadata": {
  "kernelspec": {
   "display_name": "ml_venv",
   "language": "python",
   "name": "python3"
  },
  "language_info": {
   "codemirror_mode": {
    "name": "ipython",
    "version": 3
   },
   "file_extension": ".py",
   "mimetype": "text/x-python",
   "name": "python",
   "nbconvert_exporter": "python",
   "pygments_lexer": "ipython3",
   "version": "3.10.16"
  }
 },
 "nbformat": 4,
 "nbformat_minor": 5
}

{
 "cells": [
  {
   "cell_type": "code",
   "execution_count": null,
   "id": "c805bb2a",
   "metadata": {},
   "outputs": [],
   "source": [
    "import pandas as pd\n",
    "from sklearn.preprocessing import LabelEncoder\n",
    "from sklearn.model_selection import train_test_split"
   ]
  },
  {
   "cell_type": "code",
   "execution_count": null,
   "id": "36239424",
   "metadata": {},
   "outputs": [
    {
     "name": "stdout",
     "output_type": "stream",
     "text": [
      "../data/news_data.json\n",
      "                                                                                                  text  \\\n",
      "0  Thủ tướng Phạm Minh Chính: Triển khai các dự án đường sắt \"thần tốc, thần tốc hơn nữa; táo bạo, ...   \n",
      "1  Quy mô kinh tế TP Hồ Chí Minh tăng hơn 27.000 lần sau Đổi mới TP Hồ Chí Minh xác định khơi thông...   \n",
      "\n",
      "  category  \n",
      "0   xa-hoi  \n",
      "1   xa-hoi  \n"
     ]
    }
   ],
   "source": [
    "# Set up\n",
    "pd.set_option('display.max_colwidth', 100)\n",
    "\n",
    "# script_dir = os.path.dirname(os.path.abspath(__file__))\n",
    "# data_path = os.path.join(script_dir, \"..\", \"data\", \"news_data.json\")\n",
    "data_path = r\"../data/news_data.json\"\n",
    "print(data_path)\n",
    "\n",
    "# Đọc và chuẩn hóa lại dữ liệu\n",
    "df = pd.read_json(data_path)\n",
    "\n",
    "df = df.drop_duplicates(subset=['title', 'short_description'])\n",
    "\n",
    "# Ghép các trường 'title', 'short_description' và 'content' thành một trường duy nhất 'text'\n",
    "df['text'] = df['title'] + \" \" + df['short_description'] + \" \" + df['content']\n",
    "\n",
    "# Kiểm tra dữ liệu sau khi ghép\n",
    "df_final = df[['text', 'category']]\n",
    "\n",
    "print(df_final.head(2))"
   ]
  },
  {
   "cell_type": "code",
   "execution_count": null,
   "id": "aedada16",
   "metadata": {},
   "outputs": [
    {
     "name": "stderr",
     "output_type": "stream",
     "text": [
      "C:\\Users\\duclh\\AppData\\Local\\Temp\\ipykernel_9864\\4219245939.py:2: SettingWithCopyWarning: \n",
      "A value is trying to be set on a copy of a slice from a DataFrame.\n",
      "Try using .loc[row_indexer,col_indexer] = value instead\n",
      "\n",
      "See the caveats in the documentation: https://pandas.pydata.org/pandas-docs/stable/user_guide/indexing.html#returning-a-view-versus-a-copy\n",
      "  df_final['label'] = label_encoder.fit_transform(df_final['category'])\n"
     ]
    }
   ],
   "source": [
    "\n",
    "label_encoder = LabelEncoder()\n",
    "df_final['label'] = label_encoder.fit_transform(df_final['category'])"
   ]
  },
  {
   "cell_type": "code",
   "execution_count": 13,
   "id": "6aebf9dc",
   "metadata": {},
   "outputs": [
    {
     "data": {
      "application/vnd.microsoft.datawrangler.viewer.v0+json": {
       "columns": [
        {
         "name": "index",
         "rawType": "int64",
         "type": "integer"
        },
        {
         "name": "text",
         "rawType": "object",
         "type": "string"
        },
        {
         "name": "category",
         "rawType": "object",
         "type": "string"
        },
        {
         "name": "label",
         "rawType": "int64",
         "type": "integer"
        }
       ],
       "conversionMethod": "pd.DataFrame",
       "ref": "f2e028a5-bb36-4750-a0d0-39707cd45836",
       "rows": [
        [
         "0",
         "Thủ tướng Phạm Minh Chính: Triển khai các dự án đường sắt \"thần tốc, thần tốc hơn nữa; táo bạo, táo bạo hơn nữa\" Sáng 26/4, Thủ tướng Phạm Minh Chính, Trưởng Ban Chỉ đạo các công trình trọng điểm, dự án quan trọng quốc gia lĩnh vực đường sắt, chủ trì phiên họp thứ hai của Ban Chỉ đạo. Thủ tướng Phạm Minh Chính, Trưởng Ban Chỉ đạo các công trình trọng điểm, dự án quan trọng quốc gia lĩnh vực đường sắt, chủ trì phiên họp thứ hai của Ban Chỉ đạo Hội nghị được tổ chức trực tiếp tại Trụ sở Chính phủ, trực tuyến với 9 tỉnh, thành phố có các dự án đường sắt trên địa bàn. Cùng dự hội nghị có: Phó Thủ tướng Chính phủ Trần Hồng Hà, Phó Trưởng Ban thường trực Ban Chỉ đạo; các bộ trưởng, thủ tưởng cơ quan ngang bộ, cơ quan thuộc Chính phủ; lãnh đạo các bộ, ngành Trung ương và lãnh đạo các địa phương; lãnh đạo các tập đoàn kinh tế lớn. Phát biểu khai mạc, Thủ tướng Phạm Minh Chính cho biết, đường sắt có vai trò quan trọng trong vận tải hành khách và hàng hoá, tuy nhiên, thời gian qua phát triển đường sắt ít được quan tâm, phát triển chưa tương xứng với sự phát triển của đất nước. Vừa qua, Ban Chấp hành Trung ương, Bộ Chính trị đã rất tích cực xem xét các đề nghị của Chính phủ liên quan phát triển ngành đường sắt, bao gồm: Nâng cấp, các tuyến đường sắt đã có; nối lại các tuyến đường sắt đã có trước đây đang gián đoạn; triển khai các dự án đường sắt lớn như đường sắt tốc độ cao Bắc - Nam, tuyến đường sắt kết nối với Trung Quốc và các tuyến đường sắt đô thị tại TP. Hà Nội, TP Hồ Chí Minh. Quốc hội đã ban hành các Nghị quyết số 172, số 187 và số 188 liên quan phát triển đường sắt gồm: Nghị quyết chủ trương đầu tư Dự án đường sắt tốc độ cao trên trục Bắc - Nam; Nghị quyết về chủ trương đầu tư Dự án tuyến đường sắt Lào Cai - Hà Nội - Hải Phòng; Nghị quyết thí điểm một số cơ chế, chính sách đặc thù, đặc biệt để phát triển hệ thống mạng lưới đường sắt đô thị tại thành phố Hà Nội, TP Hồ Chí Minh. Thủ tướng yêu cầu các thành viên Ban Chỉ đạo, các bộ, ngành, địa phương, đơn vị \"thần tốc, thần tốc hơn nữa; tạo bạo, táo bạo hơn nữa\", phát huy tinh thần trách nhiệm, rà soát các nhiệm vụ được giao tại phiên họp thứ nhất; đề xuất các giải pháp triển khai các dự án đảm bảo tiến độ, chất lượng Thủ tướng cho rằng, phát triển đường sắt có nhiều khâu, nhiều phần việc, nhiều hạng mục, với mức đầu tư đầu tư lớn; thời gian có hạn, công việc nhiều, đòi hỏi cao; trong khi sự hiểu biết và năng lực công nghệ chưa cao; đòi hỏi quyết tâm cao, nỗ lực lớn, hành động quyết liệt, làm việc nào dứt việc đó, xác định trọng tâm, trọng điểm. Phát triển đường sắt cũng liên quan nhiều cấp, nhiều ngành, nhiều địa phương, do đó Chính phủ thành lập Ban Chỉ đạo để các bộ, ngành, địa phương, đơn vị căn cứ chức năng, nhiệm vụ, quyền hạn phối hợp triển khai, với quan điểm phải đẩy mạnh phân cấp, phân quyền, \"nhiệm vụ thuộc ngành, lĩnh vực nào, ngành đó phải thực hiện; thuộc địa phương nào, địa phương đó phải thực hiện\" để đẩy nhanh tiến độ, chất lượng triển khai các dự án giao thông đường sắt. Ngay sau khi thành lập vào tháng 3/2024, Bạn Chỉ đạo đã họp phiên thứ nhất, Thủ tướng Chính phủ đã giao 24 nhiệm vụ cho các bộ, ngành, địa phương, tập trung vào tháo gỡ các khó khăn, vướng mắc, đẩy nhanh thủ tục chuẩn bị đầu tư các dự án. Với khí thế của những ngày tháng 4 lịch sử cách đây 50 năm giải phóng miền Nam, thống nhất đất nước, Thủ tướng Chính phủ yêu cầu các thành viên Ban Chỉ đạo, các bộ, ngành, địa phương, đơn vị \"thần tốc, thần tốc hơn nữa; tạo bạo, táo bạo hơn nữa\", phát huy tinh thần trách nhiệm, phân công \"rõ người, rõ việc, rõ thời gian, rõ kết quả, rõ trách nhiệm, rõ thẩm quyền\", \"nhìn xa, trông rộng, nghĩ sâu, làm lớn\", rà soát các nhiệm vụ được Thủ tướng Chính phủ, Trưởng Ban Chỉ đạo giao tại phiên họp thứ nhất; đồng thời đề xuất các nhiệm vụ, giải pháp triển khai các dự án đảm bảo tiến độ, chất lượng.",
         "xa-hoi",
         "0"
        ],
        [
         "1",
         "Quy mô kinh tế TP Hồ Chí Minh tăng hơn 27.000 lần sau Đổi mới TP Hồ Chí Minh xác định khơi thông nguồn vốn đầu tư tư nhân là chìa khóa để đạt mục tiêu tăng trưởng. Năm 2025 thành phố cần huy động 465.000 tỷ đồng từ khu vực tư nhân. Gần 1,8 triệu tỷ đồng là Tổng sản phẩm trên địa bàn GRDP của TP Hồ Chí Minh trong năm 2024. Gấp hơn 27.000 lần so với quy mô kinh tế của Thành phố vào năm 1986, năm bắt đầu công cuộc Đổi mới. Cho thấy sự phát triển mạnh mẽ, thành tựu to lớn và vị thế đầu tàu kinh tế của TP Hồ Chí Minh trong 50 năm từ ngày Thống nhất đất nước. Giai đoạn từ năm 1992 - 1997, tăng trưởng kinh tế Thành phố đạt tốc độ bình quân 2 con số 13%, khẳng định vị thế và vai trò đầu tàu kinh tế của cả nước. Đây là thành quả có được sau một chặng đường đổi mới từ năm 1986. Đầu tiên là những quyết sách được xem là \"xé rào\". Ông Phạm Chánh Trực - Nguyên Phó Trưởng ban Kinh tế Trung ương, Nguyên Phó Bí thư Thường trực Thành ủy TP Hồ Chí Minh cho biết: \"Lúc bấy giờ đồng chí Võ Văn Kiệt là Bí thư Thành uỷ, thấy tình hình khó khăn, kinh tế công nghiệp đình đốn, tổ chức đi xuống các nhà máy để tìm lời giải làm sao khôi phục các nhà máy này\". Ông Phạm Chánh Trực kể lại, Thành phố đã đưa ra sáng kiến tổ chức vay mượn ngoại tệ USD, vàng trong dân để nhập khẩu nguyên liệu vật tư xăng dầu cho sản xuất, hợp tác với các nhà máy. Sau đó, Thành phố mang sản phẩm đi đổi lấy lương thực thực phẩm, hàng hóa xuất khẩu được và dùng ngoại tệ nhập khẩu lại nguyên vật liệu cho nhà máy sản xuất. \"Như thế là chúng ta làm cho cái vòng quay nó bắt đầu chuyển động, chuyển động từ nhà máy và nó lan tỏa ra các nơi. Từ \"xé rào\" bung ra mà lúc bấy giờ đồng chí Võ Văn Kiệt là tiên phong, dám làm, dám chịu trách nhiệm, và tiếp theo đồng chí Nguyễn Văn Linh tổ chức cho Bộ Chính trị nghe và xem thực tế thì các đồng chí đều thống nhất cách làm đó là đúng\", ông Phạm Chánh Trực - Nguyên Phó Trưởng ban Kinh tế Trung ương, Nguyên Phó Bí thư Thường trực Thành ủy TP Hồ Chí Minh cho hay. Bà Mai Kiều Liên - Tổng Giám đốc Công ty Sữa Việt Nam Vinamilk cho biết: \"Bắt đầu từ năm 1975 đến 1986 là cả một quá trình Thành phố nói đùa là \"xé rào\" góp phần tạo nên những chính sách đổi mới của nhà nước Việt Nam chúng ta, điển hình là đại hội VI - đại hội đổi mới, lúc đó chính thức giao quyền tự chủ cho tất cả các doanh nghiệp, các thành phần kinh tế, là bước rất quan trọng, tôi nghĩ nhờ cái đó mới có TP Hồ Chí Minh và nền kinh tế thị trường hiện nay\". Giai đoạn 2002-2008, kinh tế Thành phố tiếp tục tăng trưởng cao 2 con số, nhờ 2 dấu mốc quan trọng: đó là sự hình thành của các Khu chế xuất, Khu công nghệ cao chính thức mở cửa, đón vốn tư nước ngoài. Thứ hai, là sự ra đời của Luật Doanh nghiệp đầu tiên của Việt Nam năm 2000, tạo lập môi trường pháp lý rõ ràng, minh bạch cho kinh tế tư nhân, và sau đó là loạt các doanh nghiệp quốc doanh cổ phần hoá, tạo đà cho các bước phát triển đột phá cho đến nay. Ông Phạm Chánh Trực - Nguyên Phó Trưởng ban Kinh tế Trung ương, Nguyên Phó Bí thư Thường trực Thành ủy TP. Hồ Chí Minh cho hay: \"Ba lực lượng có điều kiện đưa nền sản xuất lên công nghiệp hóa - hiện đại hoá, tức là sản xuất lớn đó là doanh nghiệp Nhà nước, doanh nghiệp tư nhân, và doanh nghiệp đầu tư nước ngoài\". \"Khi đó chúng tôi là một đơn vị rất đặc biệt, tức là từ một chi nhánh được Nhà nước cho phép cổ phần hoá, đây là 1 sự không bình thường! Nhưng mà vì lúc bấy giờ rất ít doanh nghiệp chịu cổ phần hóa thì chúng tôi làm và Thành phố hỗ trợ như trong 10 năm cổ phần hóa không phải nộp thuế thu nhập doanh nghiệp. Chúng tôi còn được thêm 5 năm chỉ phải nộp 50%. Đó là quyết định giúp chúng tôi thay đổi suy nghĩ và dũng cảm tham gia vào cổ phần hóa. Chúng tôi đã biến điều không tưởng thành có! Phải nói là chỉ có Thành phố mới giúp chúng tôi có những cơ chế đó, và nhờ Thành phố mà chúng tôi có những đột phá từ 1 doanh nghiệp Nhà nước rất nhỏ bé trở thành doanh nghiệp hàng đầu của cả nước\", ông Đỗ Hà Nam - Tổng Giám đốc Công ty Intimex cho hay. Ông Phạm Chánh Trực - Nguyên Phó Trưởng ban Kinh tế Trung ương, Nguyên Phó Bí thư Thường trực Thành ủy TP Hồ Chí Minh chia sẻ: \"Cả Thành phố có truyền thống khi nào khó cũng tìm mọi cách để vượt qua chứ không chịu khuất phục! Đó là truyền thống năng động của Thành phố từ trong kháng chiến, cho tới sau giải phóng vẫn thể hiện được\". Điểm nghẽn kìm hãm đầu tàu kinh tế Chỉ số năng lực cạnh tranh cấp tỉnh của TP Hồ Chí Minh có xu hướng xuống hạng trong những năm gần đây. Cho thấy môi trường kinh doanh chưa thực sự thuận lợi cho doanh nghiệp. Kinh tế TP Hồ Chí Minh liên tục tăng trưởng ở mức 2 con số. Nhưng sau năm 2011 đến nay, kinh tế Thành phố tăng trưởng chậm và chững lại vì nhiều nguyên nhân kể cả về khách quan lẫn chủ quan. Phân tích diễn biến tăng trưởng của 3 động lực truyền thống là Đầu tư - Xuất khẩu - Tiêu dùng, giới chuyên gia cho rằng động lực đầu tư đang chịu nhiều thách thức hơn cả. Môi trường kinh doanh của TP Hồ Chí Minh những năm gần đây có nhiều khó khăn. Trong quý 1 vừa qua, số doanh nghiệp tham gia thị trường giảm hơn 20%, trong khi số doanh nghiệp rút lui lại tăng hơn 10% so với cùng kỳ năm 2024. Các chuyên gia nhận định, sau đại dịch Covid-19, đầu tư tư nhân chững lại vì nhiều khó khăn, biến động từ kinh tế thế giới. Trong khi đó theo bảng xếp hạng Chỉ số năng lực cạnh tranh cấp tỉnh, TP Hồ Chí Minh có xu hướng xuống hạng trong những năm gần đây. Cho thấy môi trường kinh doanh chưa thực sự thuận lợi cho doanh nghiệp. Vốn đầu tư trực tiếp nước ngoài vốn là động lực thúc đẩy đầu tàu kinh tế TP Hồ Chí Minh. Đến nay vốn vốn đầu tư trực tiếp nước ngoài lũy kế của Thành phố đã đạt hơn 58 tỷ USD, dẫn đầu cả nước. Tuy nhiên dòng vốn đầu tư nước ngoài đổ vào Thành phố những năm gần đây chững lại do hạn chế quỹ đất, hạ tầng quá tải và cải cách hành chính còn chậm, Thành phố đã bị giảm sức cạnh tranh so với các địa phương khác ở miền Đông Nam Bộ và ở ven biển Bắc Bộ. Kết quả hiện tỷ trọng xuất khẩu của Thành phố trong tổng kim ngạch xuất khẩu của cả nước hiện chỉ còn hơn 10%, trong khi con số này của giai đoạn trước có thời điểm lên đến 50%. Nhìn tổng thể, đóng góp của TP Hồ Chí Minh trong Tổng sản phẩm trong nước của quốc gia hiện là 15%, giảm đáng kể so với mức hơn 20% trước đó. TP Hồ Chí Minh kích hoạt \"làn sóng\" tăng trưởng mới Trước những yêu cầu phát triển mới, kinh tế Thành phố sẽ cần phải tìm lại quỹ đạo tăng trưởng 2 con số mỗi năm trong thời gian tới. Hiện nay việc triển khai các giải pháp đồng bộ để có thể kích hoạt \"làn sóng\" tăng trưởng tiếp theo cho TP Hồ Chí Minh là rất cấp bách. Năm 2025, TP Hồ Chí Minh sẽ cần huy động 465.000 tỷ đồng từ khu vực tư nhân (bao gồm cả vốn đầu tư trực tiếp nước ngoài) thì mới có thể đạt mục tiêu tăng trưởng. Doanh nghiệp sản xuất máy móc dùng trong quy trình đóng gói vi mạch bán dẫn từ Hà Lan, Besi đã đầu tư gần 5 triệu USD cho giai đoạn đầu tại TP Hồ Chí Minh. Để đáp ứng yêu cầu chi phí, doanh nghiệp có nhu cầu sử dụng 80% nguồn cung ứng là từ Việt Nam. Ông Steven Lim - Phó Chủ tịch phụ trách nghiên cứu và phát triển khu vực châu Á, Công ty Besi cho biết: \"Chúng tôi cần phải phát triển được chuỗi cung ứng từ nội địa. Điều này sẽ có vai trò quan trọng đối với Việt Nam. Bởi khu chúng tôi mở rộng kinh doanh thì các doanh nghiệp Việt Nam cũng sẽ tăng trưởng theo, mang lại lợi ích chung khi tham gia vào chuỗi cung ứng ngành bán dẫn\". Đây là 1 trong những ví dụ điển hình về cách thức thu hút vốn đầu tư của TP Hồ Chí Minh trong giai đoạn tới. Đó là lựa chọn những nhà đầu tư mang tính chiến lược: nghĩa là thuộc lĩnh vực công nghệ cao, và điều kiện cho doanh nghiệp Việt Nam tham gia vào chuỗi giá trị toàn cầu của nhà đầu tư. Chính quyền Thành phố xác định huy động, khơi thông nguồn vốn đầu tư tư nhân chính là chìa khóa để đạt mục tiêu tăng trưởng 2 con số giai đoạn tới. Riêng năm nay Thành phố sẽ cần huy động được 465.000 tỷ đồng từ khu vực tư nhân (bao gồm cả vốn đầu tư trực tiếp nước ngoài) thì mới có thể đạt mục tiêu tăng trưởng. Trong đó có sớm tháo gỡ các vướng mắc cho hơn 570 công trình, dự án còn tồn đọng. Ông Nguyễn Xuân Thành - Giảng viên Cao cấp Trường Chính sách công và Quản lý, Đại học Fulbright Việt Nam cho hay: \"Đòi hỏi một tín hiệu quan dựa trên khơi thông rào cản về pháp lý cho thị trường bất động sản. Những cam kết về mặt chính sách, đổi mới thể chế để giảm rủi ro pháp lý cho doanh nghiệp\". Để tạo môi trường đầu tư kinh doanh tốt hơn, chính quyền Thành phố hiện đẩy mạnh cắt giảm ít nhất 30% cả về số thủ tục hành chính có điều kiện kinh doanh không cần thiết và về thời gian thực hiện thủ tục. Tiến tới xây dựng cơ chế 1 cửa thực hiện thủ tục đầu tư. Ông Nguyễn Văn Dũng - Phó Chủ tịch Ủy ban nhân dân TP Hồ Chí Minh cho biết: \"Về mặt thể chế, Thành phố sẽ hết sức tập trung. Tập trung thực hiện tốt nhất cải cách hành chính trên địa bàn, để tạo môi trường thông thoáng, thuận lợi cho cộng đồng doanh nghiệp\". \"Mục tiêu lớn của việc chúng ta tinh gọn bộ máy hiện nay là để phục vụ người dân doanh nghiệp. Vậy thì cần luật hóa, thể chế hóa việc phân cấp phân quyền cho lãnh đạo địa phương ở cấp xã được quyết định những vấn đề mà nhân dân đang cần thiết. Đấy là hướng mà chúng ta cải cách\", PGS. TS. Trần Hoàng Ngân - Đại biểu Quốc hội TP Hồ Chí Minh cho hay. Hiện chính quyền Thành phố cũng đang nghiên cứu để sớm triển khai dùng vốn đầu tư công để làm đòn bẩy kích thích đầu tư tư nhân trong lĩnh vực khoa học công nghệ, đổi mới sáng tạo. Đây là những lĩnh vực có giá trị gia tăng cao, có khả năng tạo đột phá để hoàn thành mục tiêu tăng trưởng. Một cơ sở quan trọng để TP Hồ Chí Minh có thể đạt mục tiêu tăng trưởng 2 con số trong thời gian tới: đó là những năm vừa qua từ Trung ương đến Thành phố đã nỗ lực tháo gỡ nhiều điểm nghẽn về thể chế, cụ thể hóa cơ chế đặc thù. Trước bối cảnh mới sau cuộc cách mạng tinh gọn tổ chức bộ máy, quy mô của TP Hồ Chí Minh mới sau sáp nhập có thể đạt đến 1/4 GDP của cả nước thì cộng đồng doanh nghiệp và giới chuyên gia đều kỳ vọng các cơ chế này được thực thi thông suốt, không gián đoạn. Giúp đầu tàu kinh tế bứt phá thành công.",
         "xa-hoi",
         "0"
        ]
       ],
       "shape": {
        "columns": 3,
        "rows": 2
       }
      },
      "text/html": [
       "<div>\n",
       "<style scoped>\n",
       "    .dataframe tbody tr th:only-of-type {\n",
       "        vertical-align: middle;\n",
       "    }\n",
       "\n",
       "    .dataframe tbody tr th {\n",
       "        vertical-align: top;\n",
       "    }\n",
       "\n",
       "    .dataframe thead th {\n",
       "        text-align: right;\n",
       "    }\n",
       "</style>\n",
       "<table border=\"1\" class=\"dataframe\">\n",
       "  <thead>\n",
       "    <tr style=\"text-align: right;\">\n",
       "      <th></th>\n",
       "      <th>text</th>\n",
       "      <th>category</th>\n",
       "      <th>label</th>\n",
       "    </tr>\n",
       "  </thead>\n",
       "  <tbody>\n",
       "    <tr>\n",
       "      <th>0</th>\n",
       "      <td>Thủ tướng Phạm Minh Chính: Triển khai các dự án đường sắt \"thần tốc, thần tốc hơn nữa; táo bạo, ...</td>\n",
       "      <td>xa-hoi</td>\n",
       "      <td>0</td>\n",
       "    </tr>\n",
       "    <tr>\n",
       "      <th>1</th>\n",
       "      <td>Quy mô kinh tế TP Hồ Chí Minh tăng hơn 27.000 lần sau Đổi mới TP Hồ Chí Minh xác định khơi thông...</td>\n",
       "      <td>xa-hoi</td>\n",
       "      <td>0</td>\n",
       "    </tr>\n",
       "  </tbody>\n",
       "</table>\n",
       "</div>"
      ],
      "text/plain": [
       "                                                                                                  text  \\\n",
       "0  Thủ tướng Phạm Minh Chính: Triển khai các dự án đường sắt \"thần tốc, thần tốc hơn nữa; táo bạo, ...   \n",
       "1  Quy mô kinh tế TP Hồ Chí Minh tăng hơn 27.000 lần sau Đổi mới TP Hồ Chí Minh xác định khơi thông...   \n",
       "\n",
       "  category  label  \n",
       "0   xa-hoi      0  \n",
       "1   xa-hoi      0  "
      ]
     },
     "execution_count": 13,
     "metadata": {},
     "output_type": "execute_result"
    }
   ],
   "source": [
    "df_final.head(2)"
   ]
  },
  {
   "cell_type": "code",
   "execution_count": 14,
   "id": "9c3d8b87",
   "metadata": {},
   "outputs": [
    {
     "data": {
      "application/vnd.microsoft.datawrangler.viewer.v0+json": {
       "columns": [
        {
         "name": "index",
         "rawType": "int64",
         "type": "integer"
        },
        {
         "name": "title",
         "rawType": "object",
         "type": "string"
        },
        {
         "name": "category",
         "rawType": "object",
         "type": "string"
        },
        {
         "name": "news_link",
         "rawType": "object",
         "type": "string"
        },
        {
         "name": "author",
         "rawType": "object",
         "type": "string"
        },
        {
         "name": "short_description",
         "rawType": "object",
         "type": "string"
        },
        {
         "name": "content",
         "rawType": "object",
         "type": "string"
        },
        {
         "name": "text",
         "rawType": "object",
         "type": "string"
        }
       ],
       "conversionMethod": "pd.DataFrame",
       "ref": "43f161a6-16a0-4679-832a-71b426f217ef",
       "rows": [
        [
         "4",
         "Gợi ý chọn chỗ đẹp xem đại lễ 30/4",
         "xa-hoi",
         "https://vtv.vn/xa-hoi/goi-y-chon-cho-dep-xem-dai-le-30-4-20250426100257793.htm",
         "Duy Nguyễn",
         "Bạn muốn có một ngày 30/4 trọn vẹn và đáng nhớ? Hãy tham khảo sơ đồ gợi ý các khung giờ, tuyến đường và vị trí quan sát đẹp cho lễ diễu hành tại trung tâm TP Hồ Chí Minh.",
         "",
         "Gợi ý chọn chỗ đẹp xem đại lễ 30/4 Bạn muốn có một ngày 30/4 trọn vẹn và đáng nhớ? Hãy tham khảo sơ đồ gợi ý các khung giờ, tuyến đường và vị trí quan sát đẹp cho lễ diễu hành tại trung tâm TP Hồ Chí Minh. "
        ],
        [
         "5",
         "4 người thương vong sau va chạm giữa xe chở rác và 2 xe máy",
         "xa-hoi",
         "https://vtv.vn/xa-hoi/4-nguoi-thuong-vong-sau-va-cham-giua-xe-cho-rac-va-2-xe-may-20250426093657038.htm",
         "PLO",
         "Tai nạn giữa xe chở rác và 2 xe máy trên tuyến quốc lộ N2 khiến 3 người tử vong và 1 người bị thương.",
         "Vào khoảng 7h30 ngày 26/4, tại KM 86+200 trên Lộ N2 thuộc xã Nhơn Ninh, huyện Tân Thạnh (tỉnh Long An) xảy ra vụ tai nạn khiến 3 người tử vong và 1 người bị thương. Theo thông tin ban đầu, vào thời điểm trên xe tải chở rác 62C-024.xx (chưa rõ danh tính tài xế điều khiển) va chạm với 2 xe máy 66CA-051.xx và 59Y3-766.xx (chưa rõ danh tính người điều khiển và người ngồi sau). Vụ tai nạn khiến 2 người tử vong tại chỗ, một nạn nhân tử vong tại Bệnh viện và một người bị thương. Sau vụ tai nạn xe tải chở rác bị lật nghiêng xuống lề đường, hai xe máy hư hỏng nặng. Hiện vụ việc đang được cơ quan chức năng làm rõ.",
         "4 người thương vong sau va chạm giữa xe chở rác và 2 xe máy Tai nạn giữa xe chở rác và 2 xe máy trên tuyến quốc lộ N2 khiến 3 người tử vong và 1 người bị thương. Vào khoảng 7h30 ngày 26/4, tại KM 86+200 trên Lộ N2 thuộc xã Nhơn Ninh, huyện Tân Thạnh (tỉnh Long An) xảy ra vụ tai nạn khiến 3 người tử vong và 1 người bị thương. Theo thông tin ban đầu, vào thời điểm trên xe tải chở rác 62C-024.xx (chưa rõ danh tính tài xế điều khiển) va chạm với 2 xe máy 66CA-051.xx và 59Y3-766.xx (chưa rõ danh tính người điều khiển và người ngồi sau). Vụ tai nạn khiến 2 người tử vong tại chỗ, một nạn nhân tử vong tại Bệnh viện và một người bị thương. Sau vụ tai nạn xe tải chở rác bị lật nghiêng xuống lề đường, hai xe máy hư hỏng nặng. Hiện vụ việc đang được cơ quan chức năng làm rõ."
        ]
       ],
       "shape": {
        "columns": 7,
        "rows": 2
       }
      },
      "text/html": [
       "<div>\n",
       "<style scoped>\n",
       "    .dataframe tbody tr th:only-of-type {\n",
       "        vertical-align: middle;\n",
       "    }\n",
       "\n",
       "    .dataframe tbody tr th {\n",
       "        vertical-align: top;\n",
       "    }\n",
       "\n",
       "    .dataframe thead th {\n",
       "        text-align: right;\n",
       "    }\n",
       "</style>\n",
       "<table border=\"1\" class=\"dataframe\">\n",
       "  <thead>\n",
       "    <tr style=\"text-align: right;\">\n",
       "      <th></th>\n",
       "      <th>title</th>\n",
       "      <th>category</th>\n",
       "      <th>news_link</th>\n",
       "      <th>author</th>\n",
       "      <th>short_description</th>\n",
       "      <th>content</th>\n",
       "      <th>text</th>\n",
       "    </tr>\n",
       "  </thead>\n",
       "  <tbody>\n",
       "    <tr>\n",
       "      <th>4</th>\n",
       "      <td>Gợi ý chọn chỗ đẹp xem đại lễ 30/4</td>\n",
       "      <td>xa-hoi</td>\n",
       "      <td>https://vtv.vn/xa-hoi/goi-y-chon-cho-dep-xem-dai-le-30-4-20250426100257793.htm</td>\n",
       "      <td>Duy Nguyễn</td>\n",
       "      <td>Bạn muốn có một ngày 30/4 trọn vẹn và đáng nhớ? Hãy tham khảo sơ đồ gợi ý các khung giờ, tuyến đ...</td>\n",
       "      <td></td>\n",
       "      <td>Gợi ý chọn chỗ đẹp xem đại lễ 30/4 Bạn muốn có một ngày 30/4 trọn vẹn và đáng nhớ? Hãy tham khảo...</td>\n",
       "    </tr>\n",
       "    <tr>\n",
       "      <th>5</th>\n",
       "      <td>4 người thương vong sau va chạm giữa xe chở rác và 2 xe máy</td>\n",
       "      <td>xa-hoi</td>\n",
       "      <td>https://vtv.vn/xa-hoi/4-nguoi-thuong-vong-sau-va-cham-giua-xe-cho-rac-va-2-xe-may-20250426093657...</td>\n",
       "      <td>PLO</td>\n",
       "      <td>Tai nạn giữa xe chở rác và 2 xe máy trên tuyến quốc lộ N2 khiến 3 người tử vong và 1 người bị th...</td>\n",
       "      <td>Vào khoảng 7h30 ngày 26/4, tại KM 86+200 trên Lộ N2 thuộc xã Nhơn Ninh, huyện Tân Thạnh (tỉnh Lo...</td>\n",
       "      <td>4 người thương vong sau va chạm giữa xe chở rác và 2 xe máy Tai nạn giữa xe chở rác và 2 xe máy ...</td>\n",
       "    </tr>\n",
       "  </tbody>\n",
       "</table>\n",
       "</div>"
      ],
      "text/plain": [
       "                                                         title category  \\\n",
       "4                           Gợi ý chọn chỗ đẹp xem đại lễ 30/4   xa-hoi   \n",
       "5  4 người thương vong sau va chạm giữa xe chở rác và 2 xe máy   xa-hoi   \n",
       "\n",
       "                                                                                             news_link  \\\n",
       "4                       https://vtv.vn/xa-hoi/goi-y-chon-cho-dep-xem-dai-le-30-4-20250426100257793.htm   \n",
       "5  https://vtv.vn/xa-hoi/4-nguoi-thuong-vong-sau-va-cham-giua-xe-cho-rac-va-2-xe-may-20250426093657...   \n",
       "\n",
       "       author  \\\n",
       "4  Duy Nguyễn   \n",
       "5         PLO   \n",
       "\n",
       "                                                                                     short_description  \\\n",
       "4  Bạn muốn có một ngày 30/4 trọn vẹn và đáng nhớ? Hãy tham khảo sơ đồ gợi ý các khung giờ, tuyến đ...   \n",
       "5  Tai nạn giữa xe chở rác và 2 xe máy trên tuyến quốc lộ N2 khiến 3 người tử vong và 1 người bị th...   \n",
       "\n",
       "                                                                                               content  \\\n",
       "4                                                                                                        \n",
       "5  Vào khoảng 7h30 ngày 26/4, tại KM 86+200 trên Lộ N2 thuộc xã Nhơn Ninh, huyện Tân Thạnh (tỉnh Lo...   \n",
       "\n",
       "                                                                                                  text  \n",
       "4  Gợi ý chọn chỗ đẹp xem đại lễ 30/4 Bạn muốn có một ngày 30/4 trọn vẹn và đáng nhớ? Hãy tham khảo...  \n",
       "5  4 người thương vong sau va chạm giữa xe chở rác và 2 xe máy Tai nạn giữa xe chở rác và 2 xe máy ...  "
      ]
     },
     "execution_count": 14,
     "metadata": {},
     "output_type": "execute_result"
    }
   ],
   "source": [
    "df.tail(2)"
   ]
  },
  {
   "cell_type": "code",
   "execution_count": null,
   "id": "cc6c9f31",
   "metadata": {},
   "outputs": [],
   "source": []
  }
 ],
 "metadata": {
  "kernelspec": {
   "display_name": "ml_venv",
   "language": "python",
   "name": "python3"
  },
  "language_info": {
   "codemirror_mode": {
    "name": "ipython",
    "version": 3
   },
   "file_extension": ".py",
   "mimetype": "text/x-python",
   "name": "python",
   "nbconvert_exporter": "python",
   "pygments_lexer": "ipython3",
   "version": "3.10.16"
  }
 },
 "nbformat": 4,
 "nbformat_minor": 5
}
